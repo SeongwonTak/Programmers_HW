{
 "cells": [
  {
   "cell_type": "markdown",
   "metadata": {},
   "source": [
    "# 배달 시간 예측 과제 풀이"
   ]
  },
  {
   "cell_type": "markdown",
   "metadata": {},
   "source": [
    "## Summary\n",
    "배달 데이터를 바탕으로 (위치, 메뉴, 평가지표 등) 배달 시간을 예측하는 문제를 해결하고자 한다.\n",
    "이를 위해, 데이터를 표준화 및 전처리 하였으며, 특히 메뉴(Cuisines) 관련 해서는 대표적인 메뉴군들에 대해서 해당되는 품목이 있는지 라벨링을 실시하였다.\n",
    "이를 바탕으로, 선형회귀 분석을 실시한 결과 평균값으로는 약 8분정도의 오차, 늦은 배달에 2배의 페널티를 부여한 기준으로는 9분 정도의 오차를 보였다.\n",
    "\n",
    "또한, Delivery_Time이 7개 정도의 값으로 퍼져 있어 대표적인 분류 모델인 트리 모델 및 이를 보안한 랜덤포레스트와의 결과를 비교해 보았다.\n",
    "추가로, 선형 모델 개선을 위해 PCA 및, 변수선택의 한 방법이 될 수 있는 Lasso 회귀를 통해 주성분을 추출하여 분석 및 비교하였다."
   ]
  },
  {
   "cell_type": "markdown",
   "metadata": {},
   "source": [
    "## Data Set등 기본 준비"
   ]
  },
  {
   "cell_type": "code",
   "execution_count": 1,
   "metadata": {},
   "outputs": [],
   "source": [
    "import numpy as np\n",
    "import pandas as pd"
   ]
  },
  {
   "cell_type": "code",
   "execution_count": 2,
   "metadata": {},
   "outputs": [],
   "source": [
    "data = pd.read_csv('C:/Users/HP/Desktop/datapractice/predict_delivery_time.csv')"
   ]
  },
  {
   "cell_type": "code",
   "execution_count": 3,
   "metadata": {},
   "outputs": [
    {
     "data": {
      "text/html": [
       "<div>\n",
       "<style scoped>\n",
       "    .dataframe tbody tr th:only-of-type {\n",
       "        vertical-align: middle;\n",
       "    }\n",
       "\n",
       "    .dataframe tbody tr th {\n",
       "        vertical-align: top;\n",
       "    }\n",
       "\n",
       "    .dataframe thead th {\n",
       "        text-align: right;\n",
       "    }\n",
       "</style>\n",
       "<table border=\"1\" class=\"dataframe\">\n",
       "  <thead>\n",
       "    <tr style=\"text-align: right;\">\n",
       "      <th></th>\n",
       "      <th>Restaurant</th>\n",
       "      <th>Location</th>\n",
       "      <th>Cuisines</th>\n",
       "      <th>AverageCost</th>\n",
       "      <th>MinimumOrder</th>\n",
       "      <th>Rating</th>\n",
       "      <th>Votes</th>\n",
       "      <th>Reviews</th>\n",
       "      <th>DeliveryTime</th>\n",
       "    </tr>\n",
       "  </thead>\n",
       "  <tbody>\n",
       "    <tr>\n",
       "      <th>0</th>\n",
       "      <td>ID6321</td>\n",
       "      <td>FTI College, Law College Road, Pune</td>\n",
       "      <td>Fast Food, Rolls, Burger, Salad, Wraps</td>\n",
       "      <td>200</td>\n",
       "      <td>50</td>\n",
       "      <td>3.5</td>\n",
       "      <td>12.0</td>\n",
       "      <td>4.0</td>\n",
       "      <td>30</td>\n",
       "    </tr>\n",
       "    <tr>\n",
       "      <th>1</th>\n",
       "      <td>ID2882</td>\n",
       "      <td>Sector 3, Marathalli</td>\n",
       "      <td>Ice Cream, Desserts</td>\n",
       "      <td>100</td>\n",
       "      <td>50</td>\n",
       "      <td>3.5</td>\n",
       "      <td>11.0</td>\n",
       "      <td>4.0</td>\n",
       "      <td>30</td>\n",
       "    </tr>\n",
       "    <tr>\n",
       "      <th>2</th>\n",
       "      <td>ID1595</td>\n",
       "      <td>Mumbai Central</td>\n",
       "      <td>Italian, Street Food, Fast Food</td>\n",
       "      <td>150</td>\n",
       "      <td>50</td>\n",
       "      <td>3.6</td>\n",
       "      <td>99.0</td>\n",
       "      <td>30.0</td>\n",
       "      <td>65</td>\n",
       "    </tr>\n",
       "    <tr>\n",
       "      <th>3</th>\n",
       "      <td>ID5929</td>\n",
       "      <td>Sector 1, Noida</td>\n",
       "      <td>Mughlai, North Indian, Chinese</td>\n",
       "      <td>250</td>\n",
       "      <td>99</td>\n",
       "      <td>3.7</td>\n",
       "      <td>176.0</td>\n",
       "      <td>95.0</td>\n",
       "      <td>30</td>\n",
       "    </tr>\n",
       "    <tr>\n",
       "      <th>4</th>\n",
       "      <td>ID6123</td>\n",
       "      <td>Rmz Centennial, I Gate, Whitefield</td>\n",
       "      <td>Cafe, Beverages</td>\n",
       "      <td>200</td>\n",
       "      <td>99</td>\n",
       "      <td>3.2</td>\n",
       "      <td>521.0</td>\n",
       "      <td>235.0</td>\n",
       "      <td>65</td>\n",
       "    </tr>\n",
       "  </tbody>\n",
       "</table>\n",
       "</div>"
      ],
      "text/plain": [
       "  Restaurant                             Location  \\\n",
       "0     ID6321  FTI College, Law College Road, Pune   \n",
       "1     ID2882                 Sector 3, Marathalli   \n",
       "2     ID1595                       Mumbai Central   \n",
       "3     ID5929                      Sector 1, Noida   \n",
       "4     ID6123   Rmz Centennial, I Gate, Whitefield   \n",
       "\n",
       "                                 Cuisines AverageCost  MinimumOrder Rating  \\\n",
       "0  Fast Food, Rolls, Burger, Salad, Wraps         200            50    3.5   \n",
       "1                     Ice Cream, Desserts         100            50    3.5   \n",
       "2         Italian, Street Food, Fast Food         150            50    3.6   \n",
       "3          Mughlai, North Indian, Chinese         250            99    3.7   \n",
       "4                         Cafe, Beverages         200            99    3.2   \n",
       "\n",
       "   Votes  Reviews  DeliveryTime  \n",
       "0   12.0      4.0            30  \n",
       "1   11.0      4.0            30  \n",
       "2   99.0     30.0            65  \n",
       "3  176.0     95.0            30  \n",
       "4  521.0    235.0            65  "
      ]
     },
     "execution_count": 3,
     "metadata": {},
     "output_type": "execute_result"
    }
   ],
   "source": [
    "data.head(5)"
   ]
  },
  {
   "cell_type": "markdown",
   "metadata": {},
   "source": [
    "## 데이터 변수에 대한 설명\n",
    "- Restaurant : 레스토랑의 아이디가 주어진다.\n",
    "- Location : 레스토랑이 어디있는지 표현\n",
    "- Cuisines : 어떤 음식을 파는가?\n",
    "- Averagecost : 음식구매 1인당 평균 비용\n",
    "- MinumumOrder : 최소 주문량\n",
    "- Rating : 레스토랑의 평점\n",
    "- Votes : 받은 총 평점의 개수\n",
    "- Review : 리뷰의 개수\n",
    "- DeliveryTime : 배달 시간 (Target Class)"
   ]
  },
  {
   "cell_type": "markdown",
   "metadata": {},
   "source": [
    "## EDA 및 결측치처리"
   ]
  },
  {
   "cell_type": "code",
   "execution_count": 4,
   "metadata": {},
   "outputs": [
    {
     "data": {
      "text/plain": [
       "Restaurant         0\n",
       "Location           0\n",
       "Cuisines           0\n",
       "AverageCost        0\n",
       "MinimumOrder       0\n",
       "Rating          1191\n",
       "Votes           2074\n",
       "Reviews         2312\n",
       "DeliveryTime       0\n",
       "dtype: int64"
      ]
     },
     "execution_count": 4,
     "metadata": {},
     "output_type": "execute_result"
    }
   ],
   "source": [
    "# 결측치 확인\n",
    "data.isna().sum()"
   ]
  },
  {
   "cell_type": "code",
   "execution_count": 5,
   "metadata": {},
   "outputs": [
    {
     "name": "stdout",
     "output_type": "stream",
     "text": [
      "11094\n"
     ]
    }
   ],
   "source": [
    "print(len(data))"
   ]
  },
  {
   "cell_type": "markdown",
   "metadata": {},
   "source": [
    "전체 11000여개의 데이터 중 결측치는 다음과 같이 존재한다."
   ]
  },
  {
   "cell_type": "code",
   "execution_count": 6,
   "metadata": {},
   "outputs": [
    {
     "data": {
      "text/plain": [
       "array(['3.5', '3.6', '3.7', '3.2', '3.8', '4.0', '3.9', '4.2', nan, '2.8',\n",
       "       '3.0', '3.3', '3.1', '4.7', '3.4', '4.1', 'NEW', '2.9', '4.6',\n",
       "       '4.3', '2.6', '4.5', '4.4', '4.8', '2.4', '2.7', '2.5',\n",
       "       'Opening Soon', '2.2', '4.9', '2.3', '2.1', 'Temporarily Closed'],\n",
       "      dtype=object)"
      ]
     },
     "execution_count": 6,
     "metadata": {},
     "output_type": "execute_result"
    }
   ],
   "source": [
    "data['Rating'].unique()"
   ]
  },
  {
   "cell_type": "markdown",
   "metadata": {},
   "source": [
    "New, nan, Opening Soon, Temporaily Closed 등 다양한 결측치가 많다.\n",
    "여기서 closed, Opening Soon 등은 의미가 없는 데이터다. 또한 Rating과 상관없이 Vote나 Review가 없는 식당도 추가적인 정보의 확인이 어려우므로 (평점이 낮을수록 배달시간이 느리다고 추측이 가능한데 아예 투표가 부족해서 데이터가 없으면 곤란하다.) 모든 na값을 drop한다."
   ]
  },
  {
   "cell_type": "code",
   "execution_count": 7,
   "metadata": {},
   "outputs": [
    {
     "name": "stdout",
     "output_type": "stream",
     "text": [
      "Restaurant      0\n",
      "Location        0\n",
      "Cuisines        0\n",
      "AverageCost     0\n",
      "MinimumOrder    0\n",
      "Rating          0\n",
      "Votes           0\n",
      "Reviews         0\n",
      "DeliveryTime    0\n",
      "dtype: int64\n"
     ]
    }
   ],
   "source": [
    "data.dropna(axis = 0, how = 'any', inplace = True)\n",
    "print(data.isna().sum())"
   ]
  },
  {
   "cell_type": "code",
   "execution_count": 8,
   "metadata": {},
   "outputs": [
    {
     "data": {
      "text/plain": [
       "array(['3.5', '3.6', '3.7', '3.2', '3.8', '4.0', '3.9', '4.2', '2.8',\n",
       "       '3.0', '3.3', '3.1', '4.7', '3.4', '4.1', '2.9', '4.6', '4.3',\n",
       "       '2.6', '4.5', '4.4', '4.8', '2.4', '2.7', '2.5', '2.2', '4.9',\n",
       "       '2.3', '2.1'], dtype=object)"
      ]
     },
     "execution_count": 8,
     "metadata": {},
     "output_type": "execute_result"
    }
   ],
   "source": [
    "data['Rating'].unique()"
   ]
  },
  {
   "cell_type": "code",
   "execution_count": 9,
   "metadata": {},
   "outputs": [
    {
     "data": {
      "text/plain": [
       "Restaurant       object\n",
       "Location         object\n",
       "Cuisines         object\n",
       "AverageCost      object\n",
       "MinimumOrder      int64\n",
       "Rating           object\n",
       "Votes           float64\n",
       "Reviews         float64\n",
       "DeliveryTime      int64\n",
       "dtype: object"
      ]
     },
     "execution_count": 9,
     "metadata": {},
     "output_type": "execute_result"
    }
   ],
   "source": [
    "data.dtypes"
   ]
  },
  {
   "cell_type": "code",
   "execution_count": 10,
   "metadata": {},
   "outputs": [
    {
     "data": {
      "text/plain": [
       "array(['200', '100', '150', '250', '650', '350', '800', '50', '400',\n",
       "       '600', '300', '750', '450', '550', '1,000', '500', '900', '1,200',\n",
       "       '950', '850', '700', '1,150', '1,100', '1,400', '2,050'],\n",
       "      dtype=object)"
      ]
     },
     "execution_count": 10,
     "metadata": {},
     "output_type": "execute_result"
    }
   ],
   "source": [
    "data['AverageCost'].unique()"
   ]
  },
  {
   "cell_type": "markdown",
   "metadata": {},
   "source": [
    "이에 대해서도 다양한 형태의 값을 가지고 있는데, 값의 형태로 바꿔줘야 한다."
   ]
  },
  {
   "cell_type": "code",
   "execution_count": 11,
   "metadata": {
    "scrolled": true
   },
   "outputs": [],
   "source": [
    "data['AverageCost'] = data['AverageCost'].apply(lambda s : int(s.replace(\",\",\"\")) if \",\" in s else int(s))"
   ]
  },
  {
   "cell_type": "code",
   "execution_count": 12,
   "metadata": {},
   "outputs": [
    {
     "data": {
      "text/plain": [
       "array([ 200,  100,  150,  250,  650,  350,  800,   50,  400,  600,  300,\n",
       "        750,  450,  550, 1000,  500,  900, 1200,  950,  850,  700, 1150,\n",
       "       1100, 1400, 2050], dtype=int64)"
      ]
     },
     "execution_count": 12,
     "metadata": {},
     "output_type": "execute_result"
    }
   ],
   "source": [
    "data['AverageCost'].unique()"
   ]
  },
  {
   "cell_type": "markdown",
   "metadata": {},
   "source": [
    "Rating이 Object일 수는 없다. float64형으로 변경 후 상관관계를 확인"
   ]
  },
  {
   "cell_type": "code",
   "execution_count": 13,
   "metadata": {
    "scrolled": true
   },
   "outputs": [
    {
     "data": {
      "text/html": [
       "<div>\n",
       "<style scoped>\n",
       "    .dataframe tbody tr th:only-of-type {\n",
       "        vertical-align: middle;\n",
       "    }\n",
       "\n",
       "    .dataframe tbody tr th {\n",
       "        vertical-align: top;\n",
       "    }\n",
       "\n",
       "    .dataframe thead th {\n",
       "        text-align: right;\n",
       "    }\n",
       "</style>\n",
       "<table border=\"1\" class=\"dataframe\">\n",
       "  <thead>\n",
       "    <tr style=\"text-align: right;\">\n",
       "      <th></th>\n",
       "      <th>AverageCost</th>\n",
       "      <th>MinimumOrder</th>\n",
       "      <th>Rating</th>\n",
       "      <th>Votes</th>\n",
       "      <th>Reviews</th>\n",
       "      <th>DeliveryTime</th>\n",
       "    </tr>\n",
       "  </thead>\n",
       "  <tbody>\n",
       "    <tr>\n",
       "      <th>AverageCost</th>\n",
       "      <td>1.000000</td>\n",
       "      <td>0.110152</td>\n",
       "      <td>0.358936</td>\n",
       "      <td>0.451664</td>\n",
       "      <td>0.469711</td>\n",
       "      <td>0.142956</td>\n",
       "    </tr>\n",
       "    <tr>\n",
       "      <th>MinimumOrder</th>\n",
       "      <td>0.110152</td>\n",
       "      <td>1.000000</td>\n",
       "      <td>0.059025</td>\n",
       "      <td>0.121531</td>\n",
       "      <td>0.121289</td>\n",
       "      <td>0.245323</td>\n",
       "    </tr>\n",
       "    <tr>\n",
       "      <th>Rating</th>\n",
       "      <td>0.358936</td>\n",
       "      <td>0.059025</td>\n",
       "      <td>1.000000</td>\n",
       "      <td>0.448829</td>\n",
       "      <td>0.437079</td>\n",
       "      <td>0.117819</td>\n",
       "    </tr>\n",
       "    <tr>\n",
       "      <th>Votes</th>\n",
       "      <td>0.451664</td>\n",
       "      <td>0.121531</td>\n",
       "      <td>0.448829</td>\n",
       "      <td>1.000000</td>\n",
       "      <td>0.964191</td>\n",
       "      <td>0.194151</td>\n",
       "    </tr>\n",
       "    <tr>\n",
       "      <th>Reviews</th>\n",
       "      <td>0.469711</td>\n",
       "      <td>0.121289</td>\n",
       "      <td>0.437079</td>\n",
       "      <td>0.964191</td>\n",
       "      <td>1.000000</td>\n",
       "      <td>0.170745</td>\n",
       "    </tr>\n",
       "    <tr>\n",
       "      <th>DeliveryTime</th>\n",
       "      <td>0.142956</td>\n",
       "      <td>0.245323</td>\n",
       "      <td>0.117819</td>\n",
       "      <td>0.194151</td>\n",
       "      <td>0.170745</td>\n",
       "      <td>1.000000</td>\n",
       "    </tr>\n",
       "  </tbody>\n",
       "</table>\n",
       "</div>"
      ],
      "text/plain": [
       "              AverageCost  MinimumOrder    Rating     Votes   Reviews  \\\n",
       "AverageCost      1.000000      0.110152  0.358936  0.451664  0.469711   \n",
       "MinimumOrder     0.110152      1.000000  0.059025  0.121531  0.121289   \n",
       "Rating           0.358936      0.059025  1.000000  0.448829  0.437079   \n",
       "Votes            0.451664      0.121531  0.448829  1.000000  0.964191   \n",
       "Reviews          0.469711      0.121289  0.437079  0.964191  1.000000   \n",
       "DeliveryTime     0.142956      0.245323  0.117819  0.194151  0.170745   \n",
       "\n",
       "              DeliveryTime  \n",
       "AverageCost       0.142956  \n",
       "MinimumOrder      0.245323  \n",
       "Rating            0.117819  \n",
       "Votes             0.194151  \n",
       "Reviews           0.170745  \n",
       "DeliveryTime      1.000000  "
      ]
     },
     "execution_count": 13,
     "metadata": {},
     "output_type": "execute_result"
    }
   ],
   "source": [
    "data = data.astype({'Rating':'float'})\n",
    "data.corr()"
   ]
  },
  {
   "cell_type": "code",
   "execution_count": 14,
   "metadata": {},
   "outputs": [
    {
     "data": {
      "text/plain": [
       "<seaborn.axisgrid.PairGrid at 0x20b178d3c70>"
      ]
     },
     "execution_count": 14,
     "metadata": {},
     "output_type": "execute_result"
    },
    {
     "data": {
      "image/png": "[encoded data removed]",
      "text/plain": [
       "<Figure size 1080x1080 with 42 Axes>"
      ]
     },
     "metadata": {
      "needs_background": "light"
     },
     "output_type": "display_data"
    }
   ],
   "source": [
    "import seaborn as sns\n",
    "sns.pairplot(data)"
   ]
  },
  {
   "cell_type": "markdown",
   "metadata": {},
   "source": [
    "Rating은 정규분포 형태를 띄고 있고, Vote나 Reviews에 대해서는 왼쪽 값이 크고, 롱테일이 존재하는 형태이다. 즉 일부 식당에 대해서만 많은 평가나 리뷰를 받았다는 것을 의미한다. 또한 Minimum order는 특정 값에 몰려있는 것으로 보인다."
   ]
  },
  {
   "cell_type": "code",
   "execution_count": 15,
   "metadata": {},
   "outputs": [
    {
     "data": {
      "text/plain": [
       "array([ 50,  99,   0, 200, 450, 350,  79, 400, 199, 500, 250, 150,  90,\n",
       "       299, 300, 240,  89,  59], dtype=int64)"
      ]
     },
     "execution_count": 15,
     "metadata": {},
     "output_type": "execute_result"
    }
   ],
   "source": [
    "data['MinimumOrder'].unique()"
   ]
  },
  {
   "cell_type": "markdown",
   "metadata": {},
   "source": [
    "그러나, 실제 값으로는 데이터 값이 다양하므로, 이에 대해서 전처리를 해야 한다."
   ]
  },
  {
   "cell_type": "code",
   "execution_count": 16,
   "metadata": {},
   "outputs": [
    {
     "data": {
      "text/html": [
       "<div>\n",
       "<style scoped>\n",
       "    .dataframe tbody tr th:only-of-type {\n",
       "        vertical-align: middle;\n",
       "    }\n",
       "\n",
       "    .dataframe tbody tr th {\n",
       "        vertical-align: top;\n",
       "    }\n",
       "\n",
       "    .dataframe thead th {\n",
       "        text-align: right;\n",
       "    }\n",
       "</style>\n",
       "<table border=\"1\" class=\"dataframe\">\n",
       "  <thead>\n",
       "    <tr style=\"text-align: right;\">\n",
       "      <th></th>\n",
       "      <th>AverageCost</th>\n",
       "      <th>MinimumOrder</th>\n",
       "      <th>Rating</th>\n",
       "      <th>Votes</th>\n",
       "      <th>Reviews</th>\n",
       "      <th>DeliveryTime</th>\n",
       "    </tr>\n",
       "  </thead>\n",
       "  <tbody>\n",
       "    <tr>\n",
       "      <th>AverageCost</th>\n",
       "      <td>1.000000</td>\n",
       "      <td>0.110152</td>\n",
       "      <td>0.358936</td>\n",
       "      <td>0.451664</td>\n",
       "      <td>0.469711</td>\n",
       "      <td>0.142956</td>\n",
       "    </tr>\n",
       "    <tr>\n",
       "      <th>MinimumOrder</th>\n",
       "      <td>0.110152</td>\n",
       "      <td>1.000000</td>\n",
       "      <td>0.059025</td>\n",
       "      <td>0.121531</td>\n",
       "      <td>0.121289</td>\n",
       "      <td>0.245323</td>\n",
       "    </tr>\n",
       "    <tr>\n",
       "      <th>Rating</th>\n",
       "      <td>0.358936</td>\n",
       "      <td>0.059025</td>\n",
       "      <td>1.000000</td>\n",
       "      <td>0.448829</td>\n",
       "      <td>0.437079</td>\n",
       "      <td>0.117819</td>\n",
       "    </tr>\n",
       "    <tr>\n",
       "      <th>Votes</th>\n",
       "      <td>0.451664</td>\n",
       "      <td>0.121531</td>\n",
       "      <td>0.448829</td>\n",
       "      <td>1.000000</td>\n",
       "      <td>0.964191</td>\n",
       "      <td>0.194151</td>\n",
       "    </tr>\n",
       "    <tr>\n",
       "      <th>Reviews</th>\n",
       "      <td>0.469711</td>\n",
       "      <td>0.121289</td>\n",
       "      <td>0.437079</td>\n",
       "      <td>0.964191</td>\n",
       "      <td>1.000000</td>\n",
       "      <td>0.170745</td>\n",
       "    </tr>\n",
       "    <tr>\n",
       "      <th>DeliveryTime</th>\n",
       "      <td>0.142956</td>\n",
       "      <td>0.245323</td>\n",
       "      <td>0.117819</td>\n",
       "      <td>0.194151</td>\n",
       "      <td>0.170745</td>\n",
       "      <td>1.000000</td>\n",
       "    </tr>\n",
       "  </tbody>\n",
       "</table>\n",
       "</div>"
      ],
      "text/plain": [
       "              AverageCost  MinimumOrder    Rating     Votes   Reviews  \\\n",
       "AverageCost      1.000000      0.110152  0.358936  0.451664  0.469711   \n",
       "MinimumOrder     0.110152      1.000000  0.059025  0.121531  0.121289   \n",
       "Rating           0.358936      0.059025  1.000000  0.448829  0.437079   \n",
       "Votes            0.451664      0.121531  0.448829  1.000000  0.964191   \n",
       "Reviews          0.469711      0.121289  0.437079  0.964191  1.000000   \n",
       "DeliveryTime     0.142956      0.245323  0.117819  0.194151  0.170745   \n",
       "\n",
       "              DeliveryTime  \n",
       "AverageCost       0.142956  \n",
       "MinimumOrder      0.245323  \n",
       "Rating            0.117819  \n",
       "Votes             0.194151  \n",
       "Reviews           0.170745  \n",
       "DeliveryTime      1.000000  "
      ]
     },
     "execution_count": 16,
     "metadata": {},
     "output_type": "execute_result"
    }
   ],
   "source": [
    "data.corr()"
   ]
  },
  {
   "cell_type": "markdown",
   "metadata": {},
   "source": [
    "범주형 변수들에 대해서도 값들을 분석해본다."
   ]
  },
  {
   "cell_type": "code",
   "execution_count": 17,
   "metadata": {},
   "outputs": [
    {
     "data": {
      "text/plain": [
       "array(['FTI College, Law College Road, Pune', 'Sector 3, Marathalli',\n",
       "       'Mumbai Central', 'Sector 1, Noida',\n",
       "       'Rmz Centennial, I Gate, Whitefield', 'Delhi UniversityGTB Nagar',\n",
       "       'Yerawada, Pune, Maharashtra',\n",
       "       'Delhi Administration Flats, Timarpur', 'Moulali, Kolkata',\n",
       "       'Dockyard Road, Mumbai CST Area',\n",
       "       'Gora Bazar, Rajbari, North Dumdum, Kolkata',\n",
       "       'DBlock, Sector 63, Noida', 'Sector 14, Noida',\n",
       "       'Laxman Vihar Industrial Area, Sector 3A, Gurgoan',\n",
       "       'Pune University', 'Tiretti, Kolkata',\n",
       "       'Sandhurst Road, Mumbai CST Area', 'MG Road, Pune',\n",
       "       'Hyderabad Public School, Begumpet', 'Majestic',\n",
       "       'Chandni Chowk, Kolkata',\n",
       "       'Mico Layout, Stage 2, BTM Layout,Bangalore',\n",
       "       'Delhi High Court, India Gate',\n",
       "       'Chatta Bazaar, Malakpet, Hyderabad', 'Delhi Cantt.',\n",
       "       'Babarpur, New Delhi, Delhi', 'Nathan Road, Mangaldas Road, Pune',\n",
       "       'Panjetan Colony, Malakpet, Hyderabad', 'Sector 63A,Gurgaon',\n",
       "       'Raja Bazar, Kolkata', 'Tejas Nagar Colony, Wadala West, Mumbai',\n",
       "       'Noorkhan Bazaar, Malakpet, Hyderabad',\n",
       "       'Musi Nagar, Malakpet, Hyderabad',\n",
       "       'Jaya Nagar, Saidabad, Hyderabad', 'BTM Layout 1, Electronic City'],\n",
       "      dtype=object)"
      ]
     },
     "execution_count": 17,
     "metadata": {},
     "output_type": "execute_result"
    }
   ],
   "source": [
    "data['Location'].unique()"
   ]
  },
  {
   "cell_type": "markdown",
   "metadata": {},
   "source": [
    "이를 잘 보면 같은 Location 이름이 중복해서 들어가 있는 경우도 있다. 이는 분점으로 해석할 수 있는데 데이터상에서는 본점, 분점을 고려하지 않고 단순히 예측 시간이 주어져 있다. 이 또한 전처리가 필요할 것이다."
   ]
  },
  {
   "cell_type": "code",
   "execution_count": 18,
   "metadata": {},
   "outputs": [
    {
     "data": {
      "text/plain": [
       "array(['Fast Food, Rolls, Burger, Salad, Wraps', 'Ice Cream, Desserts',\n",
       "       'Italian, Street Food, Fast Food', ...,\n",
       "       'North Indian, Mughlai, Kebab, Chinese',\n",
       "       'Chinese, Seafood, Asian, North Indian',\n",
       "       'Tibetan, Chinese, Continental, Momos'], dtype=object)"
      ]
     },
     "execution_count": 18,
     "metadata": {},
     "output_type": "execute_result"
    }
   ],
   "source": [
    "data['Cuisines'].unique()"
   ]
  },
  {
   "cell_type": "markdown",
   "metadata": {},
   "source": [
    "배달 시간의 예측에서 가장 중요한 점은, 음식의 종류일 것이다. 문제는 현재 데이터 상황으로는, 특정 가게에서 팔고 있는 종류를 대표할 수 없을 뿐더러, 음식 종류가 다양한데, 어떤 대표군으로 묶어 주는 것이 합리적일 것이다. 이를 위해서는 종류의 수를 세야 할 것이다.\n",
    "대표적인 메뉴/군에 대해서(다수결이거나, 대표적인 것이 있을 경우) 0-1로 binary 변수를 주고, 하나도 해당하지 않을 경우 나머지에 대해서는 ETC로 묶어서 정의해주자."
   ]
  },
  {
   "cell_type": "code",
   "execution_count": 19,
   "metadata": {},
   "outputs": [
    {
     "data": {
      "text/plain": [
       "0        Fast Food, Rolls, Burger, Salad, Wraps\n",
       "1                           Ice Cream, Desserts\n",
       "2               Italian, Street Food, Fast Food\n",
       "3                Mughlai, North Indian, Chinese\n",
       "4                               Cafe, Beverages\n",
       "                          ...                  \n",
       "11088            North Indian, Chinese, Biryani\n",
       "11089      Tibetan, Chinese, Continental, Momos\n",
       "11090                                 Fast Food\n",
       "11091       South Indian, Chinese, North Indian\n",
       "11092                              North Indian\n",
       "Name: Cuisines, Length: 8782, dtype: object"
      ]
     },
     "execution_count": 19,
     "metadata": {},
     "output_type": "execute_result"
    }
   ],
   "source": [
    "data['Cuisines']"
   ]
  },
  {
   "cell_type": "code",
   "execution_count": 20,
   "metadata": {},
   "outputs": [
    {
     "data": {
      "text/html": [
       "<div>\n",
       "<style scoped>\n",
       "    .dataframe tbody tr th:only-of-type {\n",
       "        vertical-align: middle;\n",
       "    }\n",
       "\n",
       "    .dataframe tbody tr th {\n",
       "        vertical-align: top;\n",
       "    }\n",
       "\n",
       "    .dataframe thead th {\n",
       "        text-align: right;\n",
       "    }\n",
       "</style>\n",
       "<table border=\"1\" class=\"dataframe\">\n",
       "  <thead>\n",
       "    <tr style=\"text-align: right;\">\n",
       "      <th></th>\n",
       "      <th>Restaurant</th>\n",
       "      <th>Location</th>\n",
       "      <th>Cuisines</th>\n",
       "      <th>AverageCost</th>\n",
       "      <th>MinimumOrder</th>\n",
       "      <th>Rating</th>\n",
       "      <th>Votes</th>\n",
       "      <th>Reviews</th>\n",
       "      <th>DeliveryTime</th>\n",
       "    </tr>\n",
       "  </thead>\n",
       "  <tbody>\n",
       "    <tr>\n",
       "      <th>0</th>\n",
       "      <td>ID6321</td>\n",
       "      <td>FTI College, Law College Road, Pune</td>\n",
       "      <td>Fast Food, Rolls, Burger, Salad, Wraps</td>\n",
       "      <td>200</td>\n",
       "      <td>50</td>\n",
       "      <td>3.5</td>\n",
       "      <td>12.0</td>\n",
       "      <td>4.0</td>\n",
       "      <td>30</td>\n",
       "    </tr>\n",
       "    <tr>\n",
       "      <th>1</th>\n",
       "      <td>ID2882</td>\n",
       "      <td>Sector 3, Marathalli</td>\n",
       "      <td>Ice Cream, Desserts</td>\n",
       "      <td>100</td>\n",
       "      <td>50</td>\n",
       "      <td>3.5</td>\n",
       "      <td>11.0</td>\n",
       "      <td>4.0</td>\n",
       "      <td>30</td>\n",
       "    </tr>\n",
       "    <tr>\n",
       "      <th>2</th>\n",
       "      <td>ID1595</td>\n",
       "      <td>Mumbai Central</td>\n",
       "      <td>Italian, Street Food, Fast Food</td>\n",
       "      <td>150</td>\n",
       "      <td>50</td>\n",
       "      <td>3.6</td>\n",
       "      <td>99.0</td>\n",
       "      <td>30.0</td>\n",
       "      <td>65</td>\n",
       "    </tr>\n",
       "    <tr>\n",
       "      <th>3</th>\n",
       "      <td>ID5929</td>\n",
       "      <td>Sector 1, Noida</td>\n",
       "      <td>Mughlai, North Indian, Chinese</td>\n",
       "      <td>250</td>\n",
       "      <td>99</td>\n",
       "      <td>3.7</td>\n",
       "      <td>176.0</td>\n",
       "      <td>95.0</td>\n",
       "      <td>30</td>\n",
       "    </tr>\n",
       "    <tr>\n",
       "      <th>4</th>\n",
       "      <td>ID6123</td>\n",
       "      <td>Rmz Centennial, I Gate, Whitefield</td>\n",
       "      <td>Cafe, Beverages</td>\n",
       "      <td>200</td>\n",
       "      <td>99</td>\n",
       "      <td>3.2</td>\n",
       "      <td>521.0</td>\n",
       "      <td>235.0</td>\n",
       "      <td>65</td>\n",
       "    </tr>\n",
       "    <tr>\n",
       "      <th>...</th>\n",
       "      <td>...</td>\n",
       "      <td>...</td>\n",
       "      <td>...</td>\n",
       "      <td>...</td>\n",
       "      <td>...</td>\n",
       "      <td>...</td>\n",
       "      <td>...</td>\n",
       "      <td>...</td>\n",
       "      <td>...</td>\n",
       "    </tr>\n",
       "    <tr>\n",
       "      <th>8777</th>\n",
       "      <td>ID944</td>\n",
       "      <td>Rmz Centennial, I Gate, Whitefield</td>\n",
       "      <td>North Indian, Chinese, Biryani</td>\n",
       "      <td>150</td>\n",
       "      <td>50</td>\n",
       "      <td>3.6</td>\n",
       "      <td>56.0</td>\n",
       "      <td>18.0</td>\n",
       "      <td>30</td>\n",
       "    </tr>\n",
       "    <tr>\n",
       "      <th>8778</th>\n",
       "      <td>ID8067</td>\n",
       "      <td>BTM Layout 1, Electronic City</td>\n",
       "      <td>Tibetan, Chinese, Continental, Momos</td>\n",
       "      <td>250</td>\n",
       "      <td>50</td>\n",
       "      <td>4.2</td>\n",
       "      <td>326.0</td>\n",
       "      <td>189.0</td>\n",
       "      <td>30</td>\n",
       "    </tr>\n",
       "    <tr>\n",
       "      <th>8779</th>\n",
       "      <td>ID4620</td>\n",
       "      <td>Sector 14, Noida</td>\n",
       "      <td>Fast Food</td>\n",
       "      <td>100</td>\n",
       "      <td>50</td>\n",
       "      <td>3.6</td>\n",
       "      <td>36.0</td>\n",
       "      <td>16.0</td>\n",
       "      <td>30</td>\n",
       "    </tr>\n",
       "    <tr>\n",
       "      <th>8780</th>\n",
       "      <td>ID3392</td>\n",
       "      <td>Majestic</td>\n",
       "      <td>South Indian, Chinese, North Indian</td>\n",
       "      <td>100</td>\n",
       "      <td>50</td>\n",
       "      <td>3.5</td>\n",
       "      <td>45.0</td>\n",
       "      <td>18.0</td>\n",
       "      <td>30</td>\n",
       "    </tr>\n",
       "    <tr>\n",
       "      <th>8781</th>\n",
       "      <td>ID4115</td>\n",
       "      <td>Sector 3, Marathalli</td>\n",
       "      <td>North Indian</td>\n",
       "      <td>100</td>\n",
       "      <td>50</td>\n",
       "      <td>3.1</td>\n",
       "      <td>24.0</td>\n",
       "      <td>9.0</td>\n",
       "      <td>30</td>\n",
       "    </tr>\n",
       "  </tbody>\n",
       "</table>\n",
       "<p>8782 rows × 9 columns</p>\n",
       "</div>"
      ],
      "text/plain": [
       "     Restaurant                             Location  \\\n",
       "0        ID6321  FTI College, Law College Road, Pune   \n",
       "1        ID2882                 Sector 3, Marathalli   \n",
       "2        ID1595                       Mumbai Central   \n",
       "3        ID5929                      Sector 1, Noida   \n",
       "4        ID6123   Rmz Centennial, I Gate, Whitefield   \n",
       "...         ...                                  ...   \n",
       "8777      ID944   Rmz Centennial, I Gate, Whitefield   \n",
       "8778     ID8067        BTM Layout 1, Electronic City   \n",
       "8779     ID4620                     Sector 14, Noida   \n",
       "8780     ID3392                             Majestic   \n",
       "8781     ID4115                 Sector 3, Marathalli   \n",
       "\n",
       "                                    Cuisines  AverageCost  MinimumOrder  \\\n",
       "0     Fast Food, Rolls, Burger, Salad, Wraps          200            50   \n",
       "1                        Ice Cream, Desserts          100            50   \n",
       "2            Italian, Street Food, Fast Food          150            50   \n",
       "3             Mughlai, North Indian, Chinese          250            99   \n",
       "4                            Cafe, Beverages          200            99   \n",
       "...                                      ...          ...           ...   \n",
       "8777          North Indian, Chinese, Biryani          150            50   \n",
       "8778    Tibetan, Chinese, Continental, Momos          250            50   \n",
       "8779                               Fast Food          100            50   \n",
       "8780     South Indian, Chinese, North Indian          100            50   \n",
       "8781                            North Indian          100            50   \n",
       "\n",
       "      Rating  Votes  Reviews  DeliveryTime  \n",
       "0        3.5   12.0      4.0            30  \n",
       "1        3.5   11.0      4.0            30  \n",
       "2        3.6   99.0     30.0            65  \n",
       "3        3.7  176.0     95.0            30  \n",
       "4        3.2  521.0    235.0            65  \n",
       "...      ...    ...      ...           ...  \n",
       "8777     3.6   56.0     18.0            30  \n",
       "8778     4.2  326.0    189.0            30  \n",
       "8779     3.6   36.0     16.0            30  \n",
       "8780     3.5   45.0     18.0            30  \n",
       "8781     3.1   24.0      9.0            30  \n",
       "\n",
       "[8782 rows x 9 columns]"
      ]
     },
     "execution_count": 20,
     "metadata": {},
     "output_type": "execute_result"
    }
   ],
   "source": [
    "# 각 행별로 접근하여 리스트를 합쳐야 하는 상황, 그런데 이 경우 인덱스를 리셋해야만 한다.\n",
    "data.reset_index(drop = True, inplace = True)\n",
    "data"
   ]
  },
  {
   "cell_type": "code",
   "execution_count": 21,
   "metadata": {},
   "outputs": [],
   "source": [
    "# 문자열 형태로 주어져있다.\n",
    "menu = ''\n",
    "for i in range(8782):\n",
    "    menu += data['Cuisines'][i]\n",
    "    menu += ', '"
   ]
  },
  {
   "cell_type": "code",
   "execution_count": 22,
   "metadata": {},
   "outputs": [],
   "source": [
    "# 쉼표로 구분된 메뉴를 메뉴 항목별로 리스트에 담는다. 그 후 개수를 세본다.\n",
    "menu_list = list(menu.split(', '))\n",
    "\n",
    "import collections\n",
    "menu_counts = collections.Counter(menu_list)"
   ]
  },
  {
   "cell_type": "markdown",
   "metadata": {},
   "source": [
    "가장 어려운 부분은, 다국적 음식을 다루는 음식점들이 있음에도 불구하고 어떤 국가 음식 종류인지에 따라서 시간을 다르게 잡지 않고 있다는 점이다. 또한 음식군마다 만드는 시간이 다름에도 불구하고, 이것을 구분하지 않고 있음이 어렵다. 모든 변수를 다 사용하기에는 총 101개의 메뉴 종류가 있고, 이 안에도 지역군이 겹치거나, 상위-하위 개념들이 들어가는 경우가 많다. 또한 전체 표본 대비 1% 도 안되는 비중이 적은 데이터들도 존재한다. 따라서, 여기에서는, 임의로 약 5%에 해당하는 400개 이상의 데이터가 존재하는 경우에 대해서 모두 모델을 만들어보고자 한다."
   ]
  },
  {
   "cell_type": "code",
   "execution_count": 23,
   "metadata": {},
   "outputs": [],
   "source": [
    "data['NorthIndian'] = data['Cuisines'].apply(lambda s : 1 if 'North Indian'in s else 0)\n",
    "data['Chinese'] = data['Cuisines'].apply(lambda s : 1 if 'Chinese'in s else 0)\n",
    "data['FastFood'] = data['Cuisines'].apply(lambda s : 1 if 'Fast Food'in s else 0)\n",
    "data['Beverages'] = data['Cuisines'].apply(lambda s : 1 if 'Beverages'in s else 0)\n",
    "data['Desserts'] = data['Cuisines'].apply(lambda s : 1 if 'Desserts'in s else 0)\n",
    "data['SouthIndian'] = data['Cuisines'].apply(lambda s : 1 if 'South Indian'in s else 0)\n",
    "data['Mughlai'] = data['Cuisines'].apply(lambda s : 1 if 'Mughlai'in s else 0)\n",
    "data['Biryani'] = data['Cuisines'].apply(lambda s : 1 if 'Biryani'in s else 0)\n",
    "data['StreetFood'] = data['Cuisines'].apply(lambda s : 1 if 'Street Food'in s else 0)\n",
    "data['Bakery'] = data['Cuisines'].apply(lambda s : 1 if 'Bakery'in s else 0)\n",
    "data['Italian'] = data['Cuisines'].apply(lambda s : 1 if 'Italian'in s else 0)\n",
    "data['Continental'] = data['Cuisines'].apply(lambda s : 1 if 'Continental'in s else 0)\n",
    "data['Cafe'] = data['Cuisines'].apply(lambda s : 1 if 'Cafe'in s else 0)\n",
    "data['Pizza'] = data['Cuisines'].apply(lambda s : 1 if 'Pizza'in s else 0)\n",
    "data['Rolls'] = data['Cuisines'].apply(lambda s : 1 if 'Rolls'in s else 0)"
   ]
  },
  {
   "cell_type": "code",
   "execution_count": 24,
   "metadata": {},
   "outputs": [],
   "source": [
    "# Location에 대해서도 동일한 처리를 한다.\n",
    "loc = ''\n",
    "for i in range(8782):\n",
    "    loc += data['Location'][i]\n",
    "    loc += ', '\n",
    "\n",
    "loc_list = list(loc.split(', '))\n",
    "\n",
    "loc_counts = collections.Counter(loc_list)"
   ]
  },
  {
   "cell_type": "code",
   "execution_count": 25,
   "metadata": {},
   "outputs": [],
   "source": [
    "data['Noida'] = data['Location'].apply(lambda s : 1 if 'Noida' in s else 0)\n",
    "data['Pune'] = data['Location'].apply(lambda s : 1 if 'Pune' in s else 0)\n",
    "data['MicoLayout'] = data['Location'].apply(lambda s : 1 if 'MicoLayout' in s else 0)\n",
    "data['Stage2'] = data['Location'].apply(lambda s : 1 if 'Stage2' in s else 0)\n",
    "data['BTMLayoutBangalore'] = data['Location'].apply(lambda s : 1 if 'BTM Layout,Bangalore' in s else 0)\n",
    "data['DBlock'] = data['Location'].apply(lambda s : 1 if 'DBlock' in s else 0)\n",
    "data['Sector63'] = data['Location'].apply(lambda s : 1 if 'Sector 63' in s else 0)\n",
    "data['Sector1'] = data['Location'].apply(lambda s : 1 if 'Sector 1' in s else 0)\n",
    "data['MumbaiCSTArea'] = data['Location'].apply(lambda s : 1 if 'Mumbai CST Area' in s else 0)\n",
    "data['FTICollege'] = data['Location'].apply(lambda s : 1 if 'FTI College' in s else 0)\n",
    "data['LawCollegeRoad'] = data['Location'].apply(lambda s : 1 if 'Law College Road' in s else 0)\n",
    "data['Kolkata'] = data['Location'].apply(lambda s : 1 if 'Kolkata' in s else 0)\n",
    "data['DelhiUniversityGTBNagar'] = data['Location'].apply(lambda s : 1 if 'Delhi UniversityGTB Nagar' in s else 0)\n",
    "data['Sector14'] = data['Location'].apply(lambda s : 1 if 'Sector 14' in s else 0)"
   ]
  },
  {
   "cell_type": "code",
   "execution_count": 26,
   "metadata": {},
   "outputs": [
    {
     "data": {
      "text/html": [
       "<div>\n",
       "<style scoped>\n",
       "    .dataframe tbody tr th:only-of-type {\n",
       "        vertical-align: middle;\n",
       "    }\n",
       "\n",
       "    .dataframe tbody tr th {\n",
       "        vertical-align: top;\n",
       "    }\n",
       "\n",
       "    .dataframe thead th {\n",
       "        text-align: right;\n",
       "    }\n",
       "</style>\n",
       "<table border=\"1\" class=\"dataframe\">\n",
       "  <thead>\n",
       "    <tr style=\"text-align: right;\">\n",
       "      <th></th>\n",
       "      <th>Restaurant</th>\n",
       "      <th>Location</th>\n",
       "      <th>Cuisines</th>\n",
       "      <th>AverageCost</th>\n",
       "      <th>MinimumOrder</th>\n",
       "      <th>Rating</th>\n",
       "      <th>Votes</th>\n",
       "      <th>Reviews</th>\n",
       "      <th>DeliveryTime</th>\n",
       "      <th>NorthIndian</th>\n",
       "      <th>...</th>\n",
       "      <th>BTMLayoutBangalore</th>\n",
       "      <th>DBlock</th>\n",
       "      <th>Sector63</th>\n",
       "      <th>Sector1</th>\n",
       "      <th>MumbaiCSTArea</th>\n",
       "      <th>FTICollege</th>\n",
       "      <th>LawCollegeRoad</th>\n",
       "      <th>Kolkata</th>\n",
       "      <th>DelhiUniversityGTBNagar</th>\n",
       "      <th>Sector14</th>\n",
       "    </tr>\n",
       "  </thead>\n",
       "  <tbody>\n",
       "    <tr>\n",
       "      <th>0</th>\n",
       "      <td>ID6321</td>\n",
       "      <td>FTI College, Law College Road, Pune</td>\n",
       "      <td>Fast Food, Rolls, Burger, Salad, Wraps</td>\n",
       "      <td>200</td>\n",
       "      <td>50</td>\n",
       "      <td>3.5</td>\n",
       "      <td>12.0</td>\n",
       "      <td>4.0</td>\n",
       "      <td>30</td>\n",
       "      <td>0</td>\n",
       "      <td>...</td>\n",
       "      <td>0</td>\n",
       "      <td>0</td>\n",
       "      <td>0</td>\n",
       "      <td>0</td>\n",
       "      <td>0</td>\n",
       "      <td>1</td>\n",
       "      <td>1</td>\n",
       "      <td>0</td>\n",
       "      <td>0</td>\n",
       "      <td>0</td>\n",
       "    </tr>\n",
       "    <tr>\n",
       "      <th>1</th>\n",
       "      <td>ID2882</td>\n",
       "      <td>Sector 3, Marathalli</td>\n",
       "      <td>Ice Cream, Desserts</td>\n",
       "      <td>100</td>\n",
       "      <td>50</td>\n",
       "      <td>3.5</td>\n",
       "      <td>11.0</td>\n",
       "      <td>4.0</td>\n",
       "      <td>30</td>\n",
       "      <td>0</td>\n",
       "      <td>...</td>\n",
       "      <td>0</td>\n",
       "      <td>0</td>\n",
       "      <td>0</td>\n",
       "      <td>0</td>\n",
       "      <td>0</td>\n",
       "      <td>0</td>\n",
       "      <td>0</td>\n",
       "      <td>0</td>\n",
       "      <td>0</td>\n",
       "      <td>0</td>\n",
       "    </tr>\n",
       "    <tr>\n",
       "      <th>2</th>\n",
       "      <td>ID1595</td>\n",
       "      <td>Mumbai Central</td>\n",
       "      <td>Italian, Street Food, Fast Food</td>\n",
       "      <td>150</td>\n",
       "      <td>50</td>\n",
       "      <td>3.6</td>\n",
       "      <td>99.0</td>\n",
       "      <td>30.0</td>\n",
       "      <td>65</td>\n",
       "      <td>0</td>\n",
       "      <td>...</td>\n",
       "      <td>0</td>\n",
       "      <td>0</td>\n",
       "      <td>0</td>\n",
       "      <td>0</td>\n",
       "      <td>0</td>\n",
       "      <td>0</td>\n",
       "      <td>0</td>\n",
       "      <td>0</td>\n",
       "      <td>0</td>\n",
       "      <td>0</td>\n",
       "    </tr>\n",
       "    <tr>\n",
       "      <th>3</th>\n",
       "      <td>ID5929</td>\n",
       "      <td>Sector 1, Noida</td>\n",
       "      <td>Mughlai, North Indian, Chinese</td>\n",
       "      <td>250</td>\n",
       "      <td>99</td>\n",
       "      <td>3.7</td>\n",
       "      <td>176.0</td>\n",
       "      <td>95.0</td>\n",
       "      <td>30</td>\n",
       "      <td>1</td>\n",
       "      <td>...</td>\n",
       "      <td>0</td>\n",
       "      <td>0</td>\n",
       "      <td>0</td>\n",
       "      <td>1</td>\n",
       "      <td>0</td>\n",
       "      <td>0</td>\n",
       "      <td>0</td>\n",
       "      <td>0</td>\n",
       "      <td>0</td>\n",
       "      <td>0</td>\n",
       "    </tr>\n",
       "    <tr>\n",
       "      <th>4</th>\n",
       "      <td>ID6123</td>\n",
       "      <td>Rmz Centennial, I Gate, Whitefield</td>\n",
       "      <td>Cafe, Beverages</td>\n",
       "      <td>200</td>\n",
       "      <td>99</td>\n",
       "      <td>3.2</td>\n",
       "      <td>521.0</td>\n",
       "      <td>235.0</td>\n",
       "      <td>65</td>\n",
       "      <td>0</td>\n",
       "      <td>...</td>\n",
       "      <td>0</td>\n",
       "      <td>0</td>\n",
       "      <td>0</td>\n",
       "      <td>0</td>\n",
       "      <td>0</td>\n",
       "      <td>0</td>\n",
       "      <td>0</td>\n",
       "      <td>0</td>\n",
       "      <td>0</td>\n",
       "      <td>0</td>\n",
       "    </tr>\n",
       "    <tr>\n",
       "      <th>...</th>\n",
       "      <td>...</td>\n",
       "      <td>...</td>\n",
       "      <td>...</td>\n",
       "      <td>...</td>\n",
       "      <td>...</td>\n",
       "      <td>...</td>\n",
       "      <td>...</td>\n",
       "      <td>...</td>\n",
       "      <td>...</td>\n",
       "      <td>...</td>\n",
       "      <td>...</td>\n",
       "      <td>...</td>\n",
       "      <td>...</td>\n",
       "      <td>...</td>\n",
       "      <td>...</td>\n",
       "      <td>...</td>\n",
       "      <td>...</td>\n",
       "      <td>...</td>\n",
       "      <td>...</td>\n",
       "      <td>...</td>\n",
       "      <td>...</td>\n",
       "    </tr>\n",
       "    <tr>\n",
       "      <th>8777</th>\n",
       "      <td>ID944</td>\n",
       "      <td>Rmz Centennial, I Gate, Whitefield</td>\n",
       "      <td>North Indian, Chinese, Biryani</td>\n",
       "      <td>150</td>\n",
       "      <td>50</td>\n",
       "      <td>3.6</td>\n",
       "      <td>56.0</td>\n",
       "      <td>18.0</td>\n",
       "      <td>30</td>\n",
       "      <td>1</td>\n",
       "      <td>...</td>\n",
       "      <td>0</td>\n",
       "      <td>0</td>\n",
       "      <td>0</td>\n",
       "      <td>0</td>\n",
       "      <td>0</td>\n",
       "      <td>0</td>\n",
       "      <td>0</td>\n",
       "      <td>0</td>\n",
       "      <td>0</td>\n",
       "      <td>0</td>\n",
       "    </tr>\n",
       "    <tr>\n",
       "      <th>8778</th>\n",
       "      <td>ID8067</td>\n",
       "      <td>BTM Layout 1, Electronic City</td>\n",
       "      <td>Tibetan, Chinese, Continental, Momos</td>\n",
       "      <td>250</td>\n",
       "      <td>50</td>\n",
       "      <td>4.2</td>\n",
       "      <td>326.0</td>\n",
       "      <td>189.0</td>\n",
       "      <td>30</td>\n",
       "      <td>0</td>\n",
       "      <td>...</td>\n",
       "      <td>0</td>\n",
       "      <td>0</td>\n",
       "      <td>0</td>\n",
       "      <td>0</td>\n",
       "      <td>0</td>\n",
       "      <td>0</td>\n",
       "      <td>0</td>\n",
       "      <td>0</td>\n",
       "      <td>0</td>\n",
       "      <td>0</td>\n",
       "    </tr>\n",
       "    <tr>\n",
       "      <th>8779</th>\n",
       "      <td>ID4620</td>\n",
       "      <td>Sector 14, Noida</td>\n",
       "      <td>Fast Food</td>\n",
       "      <td>100</td>\n",
       "      <td>50</td>\n",
       "      <td>3.6</td>\n",
       "      <td>36.0</td>\n",
       "      <td>16.0</td>\n",
       "      <td>30</td>\n",
       "      <td>0</td>\n",
       "      <td>...</td>\n",
       "      <td>0</td>\n",
       "      <td>0</td>\n",
       "      <td>0</td>\n",
       "      <td>1</td>\n",
       "      <td>0</td>\n",
       "      <td>0</td>\n",
       "      <td>0</td>\n",
       "      <td>0</td>\n",
       "      <td>0</td>\n",
       "      <td>1</td>\n",
       "    </tr>\n",
       "    <tr>\n",
       "      <th>8780</th>\n",
       "      <td>ID3392</td>\n",
       "      <td>Majestic</td>\n",
       "      <td>South Indian, Chinese, North Indian</td>\n",
       "      <td>100</td>\n",
       "      <td>50</td>\n",
       "      <td>3.5</td>\n",
       "      <td>45.0</td>\n",
       "      <td>18.0</td>\n",
       "      <td>30</td>\n",
       "      <td>1</td>\n",
       "      <td>...</td>\n",
       "      <td>0</td>\n",
       "      <td>0</td>\n",
       "      <td>0</td>\n",
       "      <td>0</td>\n",
       "      <td>0</td>\n",
       "      <td>0</td>\n",
       "      <td>0</td>\n",
       "      <td>0</td>\n",
       "      <td>0</td>\n",
       "      <td>0</td>\n",
       "    </tr>\n",
       "    <tr>\n",
       "      <th>8781</th>\n",
       "      <td>ID4115</td>\n",
       "      <td>Sector 3, Marathalli</td>\n",
       "      <td>North Indian</td>\n",
       "      <td>100</td>\n",
       "      <td>50</td>\n",
       "      <td>3.1</td>\n",
       "      <td>24.0</td>\n",
       "      <td>9.0</td>\n",
       "      <td>30</td>\n",
       "      <td>1</td>\n",
       "      <td>...</td>\n",
       "      <td>0</td>\n",
       "      <td>0</td>\n",
       "      <td>0</td>\n",
       "      <td>0</td>\n",
       "      <td>0</td>\n",
       "      <td>0</td>\n",
       "      <td>0</td>\n",
       "      <td>0</td>\n",
       "      <td>0</td>\n",
       "      <td>0</td>\n",
       "    </tr>\n",
       "  </tbody>\n",
       "</table>\n",
       "<p>8782 rows × 38 columns</p>\n",
       "</div>"
      ],
      "text/plain": [
       "     Restaurant                             Location  \\\n",
       "0        ID6321  FTI College, Law College Road, Pune   \n",
       "1        ID2882                 Sector 3, Marathalli   \n",
       "2        ID1595                       Mumbai Central   \n",
       "3        ID5929                      Sector 1, Noida   \n",
       "4        ID6123   Rmz Centennial, I Gate, Whitefield   \n",
       "...         ...                                  ...   \n",
       "8777      ID944   Rmz Centennial, I Gate, Whitefield   \n",
       "8778     ID8067        BTM Layout 1, Electronic City   \n",
       "8779     ID4620                     Sector 14, Noida   \n",
       "8780     ID3392                             Majestic   \n",
       "8781     ID4115                 Sector 3, Marathalli   \n",
       "\n",
       "                                    Cuisines  AverageCost  MinimumOrder  \\\n",
       "0     Fast Food, Rolls, Burger, Salad, Wraps          200            50   \n",
       "1                        Ice Cream, Desserts          100            50   \n",
       "2            Italian, Street Food, Fast Food          150            50   \n",
       "3             Mughlai, North Indian, Chinese          250            99   \n",
       "4                            Cafe, Beverages          200            99   \n",
       "...                                      ...          ...           ...   \n",
       "8777          North Indian, Chinese, Biryani          150            50   \n",
       "8778    Tibetan, Chinese, Continental, Momos          250            50   \n",
       "8779                               Fast Food          100            50   \n",
       "8780     South Indian, Chinese, North Indian          100            50   \n",
       "8781                            North Indian          100            50   \n",
       "\n",
       "      Rating  Votes  Reviews  DeliveryTime  NorthIndian  ...  \\\n",
       "0        3.5   12.0      4.0            30            0  ...   \n",
       "1        3.5   11.0      4.0            30            0  ...   \n",
       "2        3.6   99.0     30.0            65            0  ...   \n",
       "3        3.7  176.0     95.0            30            1  ...   \n",
       "4        3.2  521.0    235.0            65            0  ...   \n",
       "...      ...    ...      ...           ...          ...  ...   \n",
       "8777     3.6   56.0     18.0            30            1  ...   \n",
       "8778     4.2  326.0    189.0            30            0  ...   \n",
       "8779     3.6   36.0     16.0            30            0  ...   \n",
       "8780     3.5   45.0     18.0            30            1  ...   \n",
       "8781     3.1   24.0      9.0            30            1  ...   \n",
       "\n",
       "      BTMLayoutBangalore  DBlock  Sector63  Sector1  MumbaiCSTArea  \\\n",
       "0                      0       0         0        0              0   \n",
       "1                      0       0         0        0              0   \n",
       "2                      0       0         0        0              0   \n",
       "3                      0       0         0        1              0   \n",
       "4                      0       0         0        0              0   \n",
       "...                  ...     ...       ...      ...            ...   \n",
       "8777                   0       0         0        0              0   \n",
       "8778                   0       0         0        0              0   \n",
       "8779                   0       0         0        1              0   \n",
       "8780                   0       0         0        0              0   \n",
       "8781                   0       0         0        0              0   \n",
       "\n",
       "      FTICollege  LawCollegeRoad  Kolkata  DelhiUniversityGTBNagar  Sector14  \n",
       "0              1               1        0                        0         0  \n",
       "1              0               0        0                        0         0  \n",
       "2              0               0        0                        0         0  \n",
       "3              0               0        0                        0         0  \n",
       "4              0               0        0                        0         0  \n",
       "...          ...             ...      ...                      ...       ...  \n",
       "8777           0               0        0                        0         0  \n",
       "8778           0               0        0                        0         0  \n",
       "8779           0               0        0                        0         1  \n",
       "8780           0               0        0                        0         0  \n",
       "8781           0               0        0                        0         0  \n",
       "\n",
       "[8782 rows x 38 columns]"
      ]
     },
     "execution_count": 26,
     "metadata": {},
     "output_type": "execute_result"
    }
   ],
   "source": [
    "data"
   ]
  },
  {
   "cell_type": "markdown",
   "metadata": {},
   "source": [
    "## Train-Test Set 분리"
   ]
  },
  {
   "cell_type": "markdown",
   "metadata": {},
   "source": [
    "이를 위해서는 X, y 변수부터 분리를 하자."
   ]
  },
  {
   "cell_type": "code",
   "execution_count": 27,
   "metadata": {},
   "outputs": [],
   "source": [
    "X = data[['AverageCost', 'MinimumOrder', 'Rating', 'Votes', 'Reviews', \n",
    "          'NorthIndian', 'Chinese', 'FastFood', 'Beverages', 'Desserts', \n",
    "          'SouthIndian', 'Mughlai', 'Biryani', 'StreetFood', 'Bakery',\n",
    "          'Italian', 'Continental', 'Cafe', 'Pizza', 'Rolls', \n",
    "          'Noida', 'Pune', 'MicoLayout', 'Stage2', 'BTMLayoutBangalore', \n",
    "          'DBlock', 'Sector63', 'Sector1', 'MumbaiCSTArea', 'FTICollege', \n",
    "          'LawCollegeRoad', 'Kolkata', 'DelhiUniversityGTBNagar', 'Sector14']]\n",
    "y = data[['DeliveryTime']]"
   ]
  },
  {
   "cell_type": "code",
   "execution_count": 28,
   "metadata": {},
   "outputs": [],
   "source": [
    "from sklearn.model_selection import train_test_split\n",
    "X_train, X_test, y_train, y_test = train_test_split(X, y, random_state = 42)"
   ]
  },
  {
   "cell_type": "markdown",
   "metadata": {},
   "source": [
    "## 모델 결정 및 추가전처리 검토"
   ]
  },
  {
   "cell_type": "markdown",
   "metadata": {},
   "source": [
    "풀어야 할 문제는 배달 시간을 예측하는 것이다. 배달 시간의 경우는 범주형 변수 상태가 아니다. 주어진 변수들을 바탕으로 최종 배달 시간을 예측해야 하는 문제이므로 회귀 문제를 풀어야 한다. "
   ]
  },
  {
   "cell_type": "markdown",
   "metadata": {},
   "source": [
    "모델은, 일반적인 선형회귀를 사용하려 한다. 그런데, 이를 위해서는 Rating, Vote, Review, Mincost에 대해서는 Scalering을 해줘야 한다.\n",
    "나머지는 0, 1이므로 무관하다. 또 하나의 문제는, cost function이 일반적인 MSE가 아니라, 다른 기준에 둬야 한다는 것이다."
   ]
  },
  {
   "cell_type": "code",
   "execution_count": 29,
   "metadata": {},
   "outputs": [
    {
     "data": {
      "text/plain": [
       "<AxesSubplot:xlabel='AverageCost', ylabel='Count'>"
      ]
     },
     "execution_count": 29,
     "metadata": {},
     "output_type": "execute_result"
    },
    {
     "data": {
      "image/png": "[encoded data removed]",
      "text/plain": [
       "<Figure size 432x288 with 1 Axes>"
      ]
     },
     "metadata": {
      "needs_background": "light"
     },
     "output_type": "display_data"
    }
   ],
   "source": [
    "sns.histplot(x = \"AverageCost\", data =X)"
   ]
  },
  {
   "cell_type": "code",
   "execution_count": 30,
   "metadata": {},
   "outputs": [
    {
     "data": {
      "text/plain": [
       "<AxesSubplot:xlabel='MinimumOrder', ylabel='Count'>"
      ]
     },
     "execution_count": 30,
     "metadata": {},
     "output_type": "execute_result"
    },
    {
     "data": {
      "image/png": "[encoded data removed]",
      "text/plain": [
       "<Figure size 432x288 with 1 Axes>"
      ]
     },
     "metadata": {
      "needs_background": "light"
     },
     "output_type": "display_data"
    }
   ],
   "source": [
    "sns.histplot(x = \"MinimumOrder\", data =X, bins = 50)"
   ]
  },
  {
   "cell_type": "code",
   "execution_count": 31,
   "metadata": {},
   "outputs": [
    {
     "data": {
      "text/plain": [
       "<AxesSubplot:xlabel='Rating', ylabel='Count'>"
      ]
     },
     "execution_count": 31,
     "metadata": {},
     "output_type": "execute_result"
    },
    {
     "data": {
      "image/png": "[encoded data removed]",
      "text/plain": [
       "<Figure size 432x288 with 1 Axes>"
      ]
     },
     "metadata": {
      "needs_background": "light"
     },
     "output_type": "display_data"
    }
   ],
   "source": [
    "sns.histplot(x = \"Rating\", data =X)"
   ]
  },
  {
   "cell_type": "code",
   "execution_count": 32,
   "metadata": {},
   "outputs": [
    {
     "data": {
      "text/plain": [
       "<AxesSubplot:xlabel='Votes', ylabel='Count'>"
      ]
     },
     "execution_count": 32,
     "metadata": {},
     "output_type": "execute_result"
    },
    {
     "data": {
      "image/png": "[encoded data removed]",
      "text/plain": [
       "<Figure size 432x288 with 1 Axes>"
      ]
     },
     "metadata": {
      "needs_background": "light"
     },
     "output_type": "display_data"
    }
   ],
   "source": [
    "sns.histplot(x = \"Votes\", data =X)"
   ]
  },
  {
   "cell_type": "code",
   "execution_count": 33,
   "metadata": {},
   "outputs": [
    {
     "data": {
      "text/plain": [
       "<AxesSubplot:xlabel='Reviews', ylabel='Count'>"
      ]
     },
     "execution_count": 33,
     "metadata": {},
     "output_type": "execute_result"
    },
    {
     "data": {
      "image/png": "[encoded data removed]",
      "text/plain": [
       "<Figure size 432x288 with 1 Axes>"
      ]
     },
     "metadata": {
      "needs_background": "light"
     },
     "output_type": "display_data"
    }
   ],
   "source": [
    "sns.histplot(x = \"Reviews\", data =X)"
   ]
  },
  {
   "cell_type": "markdown",
   "metadata": {},
   "source": [
    "Vote, Review, Averagecost, MinimumOrder 는 log를 먼저 취한 후, Rating, Vote, Review, Mincost 4개의 변수에 대해 StandardScaler를 적용하려고 한다.\n"
   ]
  },
  {
   "cell_type": "code",
   "execution_count": 34,
   "metadata": {},
   "outputs": [
    {
     "name": "stderr",
     "output_type": "stream",
     "text": [
      "<ipython-input-34-c0542ff0d4cf>:3: SettingWithCopyWarning: \n",
      "A value is trying to be set on a copy of a slice from a DataFrame.\n",
      "Try using .loc[row_indexer,col_indexer] = value instead\n",
      "\n",
      "See the caveats in the documentation: https://pandas.pydata.org/pandas-docs/stable/user_guide/indexing.html#returning-a-view-versus-a-copy\n",
      "  X_train['Votes'] = X_train['Votes'].apply(lambda x: np.log(x+1e-6))\n",
      "<ipython-input-34-c0542ff0d4cf>:4: SettingWithCopyWarning: \n",
      "A value is trying to be set on a copy of a slice from a DataFrame.\n",
      "Try using .loc[row_indexer,col_indexer] = value instead\n",
      "\n",
      "See the caveats in the documentation: https://pandas.pydata.org/pandas-docs/stable/user_guide/indexing.html#returning-a-view-versus-a-copy\n",
      "  X_test['Votes'] = X_test['Votes'].apply(lambda x: np.log(x+1e-6))\n",
      "<ipython-input-34-c0542ff0d4cf>:5: SettingWithCopyWarning: \n",
      "A value is trying to be set on a copy of a slice from a DataFrame.\n",
      "Try using .loc[row_indexer,col_indexer] = value instead\n",
      "\n",
      "See the caveats in the documentation: https://pandas.pydata.org/pandas-docs/stable/user_guide/indexing.html#returning-a-view-versus-a-copy\n",
      "  X_train['Reviews'] = X_train['Reviews'].apply(lambda x: np.log(x+1e-6))\n",
      "<ipython-input-34-c0542ff0d4cf>:6: SettingWithCopyWarning: \n",
      "A value is trying to be set on a copy of a slice from a DataFrame.\n",
      "Try using .loc[row_indexer,col_indexer] = value instead\n",
      "\n",
      "See the caveats in the documentation: https://pandas.pydata.org/pandas-docs/stable/user_guide/indexing.html#returning-a-view-versus-a-copy\n",
      "  X_test['Reviews'] = X_test['Reviews'].apply(lambda x: np.log(x+1e-6))\n",
      "<ipython-input-34-c0542ff0d4cf>:7: SettingWithCopyWarning: \n",
      "A value is trying to be set on a copy of a slice from a DataFrame.\n",
      "Try using .loc[row_indexer,col_indexer] = value instead\n",
      "\n",
      "See the caveats in the documentation: https://pandas.pydata.org/pandas-docs/stable/user_guide/indexing.html#returning-a-view-versus-a-copy\n",
      "  X_train['AverageCost'] = X_train['AverageCost'].apply(lambda x: np.log(x+1e-6))\n",
      "<ipython-input-34-c0542ff0d4cf>:8: SettingWithCopyWarning: \n",
      "A value is trying to be set on a copy of a slice from a DataFrame.\n",
      "Try using .loc[row_indexer,col_indexer] = value instead\n",
      "\n",
      "See the caveats in the documentation: https://pandas.pydata.org/pandas-docs/stable/user_guide/indexing.html#returning-a-view-versus-a-copy\n",
      "  X_test['AverageCost'] = X_test['AverageCost'].apply(lambda x: np.log(x+1e-6))\n",
      "<ipython-input-34-c0542ff0d4cf>:9: SettingWithCopyWarning: \n",
      "A value is trying to be set on a copy of a slice from a DataFrame.\n",
      "Try using .loc[row_indexer,col_indexer] = value instead\n",
      "\n",
      "See the caveats in the documentation: https://pandas.pydata.org/pandas-docs/stable/user_guide/indexing.html#returning-a-view-versus-a-copy\n",
      "  X_train['MinimumOrder'] = X_train['MinimumOrder'].apply(lambda x: np.log(x+1e-6))\n",
      "<ipython-input-34-c0542ff0d4cf>:10: SettingWithCopyWarning: \n",
      "A value is trying to be set on a copy of a slice from a DataFrame.\n",
      "Try using .loc[row_indexer,col_indexer] = value instead\n",
      "\n",
      "See the caveats in the documentation: https://pandas.pydata.org/pandas-docs/stable/user_guide/indexing.html#returning-a-view-versus-a-copy\n",
      "  X_test['MinimumOrder'] = X_test['MinimumOrder'].apply(lambda x: np.log(x+1e-6))\n"
     ]
    }
   ],
   "source": [
    "import numpy as np\n",
    "\n",
    "X_train['Votes'] = X_train['Votes'].apply(lambda x: np.log(x+1e-6))\n",
    "X_test['Votes'] = X_test['Votes'].apply(lambda x: np.log(x+1e-6))\n",
    "X_train['Reviews'] = X_train['Reviews'].apply(lambda x: np.log(x+1e-6))\n",
    "X_test['Reviews'] = X_test['Reviews'].apply(lambda x: np.log(x+1e-6))\n",
    "X_train['AverageCost'] = X_train['AverageCost'].apply(lambda x: np.log(x+1e-6))\n",
    "X_test['AverageCost'] = X_test['AverageCost'].apply(lambda x: np.log(x+1e-6))\n",
    "X_train['MinimumOrder'] = X_train['MinimumOrder'].apply(lambda x: np.log(x+1e-6))\n",
    "X_test['MinimumOrder'] = X_test['MinimumOrder'].apply(lambda x: np.log(x+1e-6))"
   ]
  },
  {
   "cell_type": "code",
   "execution_count": 35,
   "metadata": {},
   "outputs": [],
   "source": [
    "from sklearn.preprocessing import StandardScaler\n",
    "scaler = StandardScaler()\n",
    "scaler.fit(X_train[['AverageCost', 'MinimumOrder', 'Rating', 'Votes', 'Reviews']])\n",
    "X_train_scale = scaler.transform(X_train[['AverageCost', 'MinimumOrder', 'Rating', 'Votes', 'Reviews']])\n",
    "X_test_scale = scaler.transform(X_test[['AverageCost', 'MinimumOrder', 'Rating', 'Votes', 'Reviews']])"
   ]
  },
  {
   "cell_type": "code",
   "execution_count": 36,
   "metadata": {},
   "outputs": [
    {
     "data": {
      "text/plain": [
       "array([[ 0.57640041,  0.07715532,  0.66255834, -0.42268811, -0.05413971],\n",
       "       [-0.40840073,  0.07715532, -1.28385224, -1.83192444, -1.25896552],\n",
       "       [ 0.14621051,  0.07715532, -0.31064695, -0.51465683, -0.77749412],\n",
       "       ...,\n",
       "       [-1.19008137,  0.07715532,  0.66255834, -0.35765959,  0.01025858],\n",
       "       [ 1.48250239,  0.07715532, -2.0137562 , -0.8123909 , -1.88324443],\n",
       "       [ 2.09643714,  0.07715532,  2.36566759,  1.19151067,  1.34641227]])"
      ]
     },
     "execution_count": 36,
     "metadata": {},
     "output_type": "execute_result"
    }
   ],
   "source": [
    "X_train_scale"
   ]
  },
  {
   "cell_type": "code",
   "execution_count": 37,
   "metadata": {},
   "outputs": [
    {
     "name": "stderr",
     "output_type": "stream",
     "text": [
      "<ipython-input-37-262b22cc36dd>:1: SettingWithCopyWarning: \n",
      "A value is trying to be set on a copy of a slice from a DataFrame.\n",
      "Try using .loc[row_indexer,col_indexer] = value instead\n",
      "\n",
      "See the caveats in the documentation: https://pandas.pydata.org/pandas-docs/stable/user_guide/indexing.html#returning-a-view-versus-a-copy\n",
      "  X_train[['AverageCost', 'MinimumOrder', 'Rating', 'Votes', 'Reviews']] = X_train_scale\n",
      "C:\\Users\\HP\\anaconda3\\lib\\site-packages\\pandas\\core\\indexing.py:1736: SettingWithCopyWarning: \n",
      "A value is trying to be set on a copy of a slice from a DataFrame.\n",
      "Try using .loc[row_indexer,col_indexer] = value instead\n",
      "\n",
      "See the caveats in the documentation: https://pandas.pydata.org/pandas-docs/stable/user_guide/indexing.html#returning-a-view-versus-a-copy\n",
      "  isetter(loc, value[:, i].tolist())\n",
      "<ipython-input-37-262b22cc36dd>:2: SettingWithCopyWarning: \n",
      "A value is trying to be set on a copy of a slice from a DataFrame.\n",
      "Try using .loc[row_indexer,col_indexer] = value instead\n",
      "\n",
      "See the caveats in the documentation: https://pandas.pydata.org/pandas-docs/stable/user_guide/indexing.html#returning-a-view-versus-a-copy\n",
      "  X_test[['AverageCost', 'MinimumOrder', 'Rating', 'Votes', 'Reviews']] = X_test_scale\n"
     ]
    }
   ],
   "source": [
    "X_train[['AverageCost', 'MinimumOrder', 'Rating', 'Votes', 'Reviews']] = X_train_scale\n",
    "X_test[['AverageCost', 'MinimumOrder', 'Rating', 'Votes', 'Reviews']] = X_test_scale"
   ]
  },
  {
   "cell_type": "code",
   "execution_count": 38,
   "metadata": {},
   "outputs": [
    {
     "data": {
      "text/html": [
       "<div>\n",
       "<style scoped>\n",
       "    .dataframe tbody tr th:only-of-type {\n",
       "        vertical-align: middle;\n",
       "    }\n",
       "\n",
       "    .dataframe tbody tr th {\n",
       "        vertical-align: top;\n",
       "    }\n",
       "\n",
       "    .dataframe thead th {\n",
       "        text-align: right;\n",
       "    }\n",
       "</style>\n",
       "<table border=\"1\" class=\"dataframe\">\n",
       "  <thead>\n",
       "    <tr style=\"text-align: right;\">\n",
       "      <th></th>\n",
       "      <th>AverageCost</th>\n",
       "      <th>MinimumOrder</th>\n",
       "      <th>Rating</th>\n",
       "      <th>Votes</th>\n",
       "      <th>Reviews</th>\n",
       "      <th>NorthIndian</th>\n",
       "      <th>Chinese</th>\n",
       "      <th>FastFood</th>\n",
       "      <th>Beverages</th>\n",
       "      <th>Desserts</th>\n",
       "      <th>...</th>\n",
       "      <th>BTMLayoutBangalore</th>\n",
       "      <th>DBlock</th>\n",
       "      <th>Sector63</th>\n",
       "      <th>Sector1</th>\n",
       "      <th>MumbaiCSTArea</th>\n",
       "      <th>FTICollege</th>\n",
       "      <th>LawCollegeRoad</th>\n",
       "      <th>Kolkata</th>\n",
       "      <th>DelhiUniversityGTBNagar</th>\n",
       "      <th>Sector14</th>\n",
       "    </tr>\n",
       "  </thead>\n",
       "  <tbody>\n",
       "    <tr>\n",
       "      <th>3352</th>\n",
       "      <td>0.576400</td>\n",
       "      <td>0.077155</td>\n",
       "      <td>0.662558</td>\n",
       "      <td>-0.422688</td>\n",
       "      <td>-0.054140</td>\n",
       "      <td>0</td>\n",
       "      <td>0</td>\n",
       "      <td>1</td>\n",
       "      <td>0</td>\n",
       "      <td>0</td>\n",
       "      <td>...</td>\n",
       "      <td>0</td>\n",
       "      <td>0</td>\n",
       "      <td>0</td>\n",
       "      <td>0</td>\n",
       "      <td>0</td>\n",
       "      <td>1</td>\n",
       "      <td>1</td>\n",
       "      <td>0</td>\n",
       "      <td>0</td>\n",
       "      <td>0</td>\n",
       "    </tr>\n",
       "    <tr>\n",
       "      <th>4122</th>\n",
       "      <td>-0.408401</td>\n",
       "      <td>0.077155</td>\n",
       "      <td>-1.283852</td>\n",
       "      <td>-1.831924</td>\n",
       "      <td>-1.258966</td>\n",
       "      <td>0</td>\n",
       "      <td>1</td>\n",
       "      <td>0</td>\n",
       "      <td>1</td>\n",
       "      <td>0</td>\n",
       "      <td>...</td>\n",
       "      <td>0</td>\n",
       "      <td>0</td>\n",
       "      <td>0</td>\n",
       "      <td>0</td>\n",
       "      <td>0</td>\n",
       "      <td>0</td>\n",
       "      <td>0</td>\n",
       "      <td>0</td>\n",
       "      <td>0</td>\n",
       "      <td>0</td>\n",
       "    </tr>\n",
       "    <tr>\n",
       "      <th>893</th>\n",
       "      <td>0.146211</td>\n",
       "      <td>0.077155</td>\n",
       "      <td>-0.310647</td>\n",
       "      <td>-0.514657</td>\n",
       "      <td>-0.777494</td>\n",
       "      <td>1</td>\n",
       "      <td>1</td>\n",
       "      <td>0</td>\n",
       "      <td>0</td>\n",
       "      <td>0</td>\n",
       "      <td>...</td>\n",
       "      <td>0</td>\n",
       "      <td>0</td>\n",
       "      <td>0</td>\n",
       "      <td>0</td>\n",
       "      <td>0</td>\n",
       "      <td>1</td>\n",
       "      <td>1</td>\n",
       "      <td>0</td>\n",
       "      <td>0</td>\n",
       "      <td>0</td>\n",
       "    </tr>\n",
       "    <tr>\n",
       "      <th>6701</th>\n",
       "      <td>0.576400</td>\n",
       "      <td>0.077155</td>\n",
       "      <td>1.635764</td>\n",
       "      <td>1.062752</td>\n",
       "      <td>1.206908</td>\n",
       "      <td>0</td>\n",
       "      <td>0</td>\n",
       "      <td>0</td>\n",
       "      <td>0</td>\n",
       "      <td>0</td>\n",
       "      <td>...</td>\n",
       "      <td>0</td>\n",
       "      <td>0</td>\n",
       "      <td>0</td>\n",
       "      <td>0</td>\n",
       "      <td>0</td>\n",
       "      <td>0</td>\n",
       "      <td>0</td>\n",
       "      <td>0</td>\n",
       "      <td>0</td>\n",
       "      <td>0</td>\n",
       "    </tr>\n",
       "    <tr>\n",
       "      <th>1850</th>\n",
       "      <td>0.146211</td>\n",
       "      <td>0.077155</td>\n",
       "      <td>-0.067346</td>\n",
       "      <td>0.550690</td>\n",
       "      <td>0.471064</td>\n",
       "      <td>1</td>\n",
       "      <td>1</td>\n",
       "      <td>0</td>\n",
       "      <td>0</td>\n",
       "      <td>0</td>\n",
       "      <td>...</td>\n",
       "      <td>0</td>\n",
       "      <td>0</td>\n",
       "      <td>0</td>\n",
       "      <td>0</td>\n",
       "      <td>1</td>\n",
       "      <td>0</td>\n",
       "      <td>0</td>\n",
       "      <td>0</td>\n",
       "      <td>0</td>\n",
       "      <td>0</td>\n",
       "    </tr>\n",
       "    <tr>\n",
       "      <th>...</th>\n",
       "      <td>...</td>\n",
       "      <td>...</td>\n",
       "      <td>...</td>\n",
       "      <td>...</td>\n",
       "      <td>...</td>\n",
       "      <td>...</td>\n",
       "      <td>...</td>\n",
       "      <td>...</td>\n",
       "      <td>...</td>\n",
       "      <td>...</td>\n",
       "      <td>...</td>\n",
       "      <td>...</td>\n",
       "      <td>...</td>\n",
       "      <td>...</td>\n",
       "      <td>...</td>\n",
       "      <td>...</td>\n",
       "      <td>...</td>\n",
       "      <td>...</td>\n",
       "      <td>...</td>\n",
       "      <td>...</td>\n",
       "      <td>...</td>\n",
       "    </tr>\n",
       "    <tr>\n",
       "      <th>5734</th>\n",
       "      <td>0.146211</td>\n",
       "      <td>0.425576</td>\n",
       "      <td>1.149161</td>\n",
       "      <td>0.387796</td>\n",
       "      <td>0.613872</td>\n",
       "      <td>1</td>\n",
       "      <td>0</td>\n",
       "      <td>0</td>\n",
       "      <td>0</td>\n",
       "      <td>0</td>\n",
       "      <td>...</td>\n",
       "      <td>0</td>\n",
       "      <td>0</td>\n",
       "      <td>0</td>\n",
       "      <td>0</td>\n",
       "      <td>0</td>\n",
       "      <td>0</td>\n",
       "      <td>0</td>\n",
       "      <td>0</td>\n",
       "      <td>0</td>\n",
       "      <td>0</td>\n",
       "    </tr>\n",
       "    <tr>\n",
       "      <th>5191</th>\n",
       "      <td>-1.190081</td>\n",
       "      <td>0.077155</td>\n",
       "      <td>0.419257</td>\n",
       "      <td>-0.105980</td>\n",
       "      <td>-0.520657</td>\n",
       "      <td>0</td>\n",
       "      <td>0</td>\n",
       "      <td>1</td>\n",
       "      <td>0</td>\n",
       "      <td>0</td>\n",
       "      <td>...</td>\n",
       "      <td>0</td>\n",
       "      <td>0</td>\n",
       "      <td>0</td>\n",
       "      <td>0</td>\n",
       "      <td>0</td>\n",
       "      <td>0</td>\n",
       "      <td>0</td>\n",
       "      <td>1</td>\n",
       "      <td>0</td>\n",
       "      <td>0</td>\n",
       "    </tr>\n",
       "    <tr>\n",
       "      <th>5390</th>\n",
       "      <td>-1.190081</td>\n",
       "      <td>0.077155</td>\n",
       "      <td>0.662558</td>\n",
       "      <td>-0.357660</td>\n",
       "      <td>0.010259</td>\n",
       "      <td>0</td>\n",
       "      <td>0</td>\n",
       "      <td>0</td>\n",
       "      <td>0</td>\n",
       "      <td>1</td>\n",
       "      <td>...</td>\n",
       "      <td>0</td>\n",
       "      <td>0</td>\n",
       "      <td>0</td>\n",
       "      <td>0</td>\n",
       "      <td>0</td>\n",
       "      <td>0</td>\n",
       "      <td>0</td>\n",
       "      <td>0</td>\n",
       "      <td>0</td>\n",
       "      <td>0</td>\n",
       "    </tr>\n",
       "    <tr>\n",
       "      <th>860</th>\n",
       "      <td>1.482502</td>\n",
       "      <td>0.077155</td>\n",
       "      <td>-2.013756</td>\n",
       "      <td>-0.812391</td>\n",
       "      <td>-1.883244</td>\n",
       "      <td>1</td>\n",
       "      <td>0</td>\n",
       "      <td>0</td>\n",
       "      <td>0</td>\n",
       "      <td>0</td>\n",
       "      <td>...</td>\n",
       "      <td>0</td>\n",
       "      <td>1</td>\n",
       "      <td>1</td>\n",
       "      <td>0</td>\n",
       "      <td>0</td>\n",
       "      <td>0</td>\n",
       "      <td>0</td>\n",
       "      <td>0</td>\n",
       "      <td>0</td>\n",
       "      <td>0</td>\n",
       "    </tr>\n",
       "    <tr>\n",
       "      <th>7270</th>\n",
       "      <td>2.096437</td>\n",
       "      <td>0.077155</td>\n",
       "      <td>2.365668</td>\n",
       "      <td>1.191511</td>\n",
       "      <td>1.346412</td>\n",
       "      <td>1</td>\n",
       "      <td>0</td>\n",
       "      <td>0</td>\n",
       "      <td>0</td>\n",
       "      <td>0</td>\n",
       "      <td>...</td>\n",
       "      <td>0</td>\n",
       "      <td>0</td>\n",
       "      <td>0</td>\n",
       "      <td>0</td>\n",
       "      <td>0</td>\n",
       "      <td>0</td>\n",
       "      <td>0</td>\n",
       "      <td>0</td>\n",
       "      <td>0</td>\n",
       "      <td>0</td>\n",
       "    </tr>\n",
       "  </tbody>\n",
       "</table>\n",
       "<p>6586 rows × 34 columns</p>\n",
       "</div>"
      ],
      "text/plain": [
       "      AverageCost  MinimumOrder    Rating     Votes   Reviews  NorthIndian  \\\n",
       "3352     0.576400      0.077155  0.662558 -0.422688 -0.054140            0   \n",
       "4122    -0.408401      0.077155 -1.283852 -1.831924 -1.258966            0   \n",
       "893      0.146211      0.077155 -0.310647 -0.514657 -0.777494            1   \n",
       "6701     0.576400      0.077155  1.635764  1.062752  1.206908            0   \n",
       "1850     0.146211      0.077155 -0.067346  0.550690  0.471064            1   \n",
       "...           ...           ...       ...       ...       ...          ...   \n",
       "5734     0.146211      0.425576  1.149161  0.387796  0.613872            1   \n",
       "5191    -1.190081      0.077155  0.419257 -0.105980 -0.520657            0   \n",
       "5390    -1.190081      0.077155  0.662558 -0.357660  0.010259            0   \n",
       "860      1.482502      0.077155 -2.013756 -0.812391 -1.883244            1   \n",
       "7270     2.096437      0.077155  2.365668  1.191511  1.346412            1   \n",
       "\n",
       "      Chinese  FastFood  Beverages  Desserts  ...  BTMLayoutBangalore  DBlock  \\\n",
       "3352        0         1          0         0  ...                   0       0   \n",
       "4122        1         0          1         0  ...                   0       0   \n",
       "893         1         0          0         0  ...                   0       0   \n",
       "6701        0         0          0         0  ...                   0       0   \n",
       "1850        1         0          0         0  ...                   0       0   \n",
       "...       ...       ...        ...       ...  ...                 ...     ...   \n",
       "5734        0         0          0         0  ...                   0       0   \n",
       "5191        0         1          0         0  ...                   0       0   \n",
       "5390        0         0          0         1  ...                   0       0   \n",
       "860         0         0          0         0  ...                   0       1   \n",
       "7270        0         0          0         0  ...                   0       0   \n",
       "\n",
       "      Sector63  Sector1  MumbaiCSTArea  FTICollege  LawCollegeRoad  Kolkata  \\\n",
       "3352         0        0              0           1               1        0   \n",
       "4122         0        0              0           0               0        0   \n",
       "893          0        0              0           1               1        0   \n",
       "6701         0        0              0           0               0        0   \n",
       "1850         0        0              1           0               0        0   \n",
       "...        ...      ...            ...         ...             ...      ...   \n",
       "5734         0        0              0           0               0        0   \n",
       "5191         0        0              0           0               0        1   \n",
       "5390         0        0              0           0               0        0   \n",
       "860          1        0              0           0               0        0   \n",
       "7270         0        0              0           0               0        0   \n",
       "\n",
       "      DelhiUniversityGTBNagar  Sector14  \n",
       "3352                        0         0  \n",
       "4122                        0         0  \n",
       "893                         0         0  \n",
       "6701                        0         0  \n",
       "1850                        0         0  \n",
       "...                       ...       ...  \n",
       "5734                        0         0  \n",
       "5191                        0         0  \n",
       "5390                        0         0  \n",
       "860                         0         0  \n",
       "7270                        0         0  \n",
       "\n",
       "[6586 rows x 34 columns]"
      ]
     },
     "execution_count": 38,
     "metadata": {},
     "output_type": "execute_result"
    }
   ],
   "source": [
    "X_train"
   ]
  },
  {
   "cell_type": "markdown",
   "metadata": {},
   "source": [
    "값들의 표준화가 완료되었다. 이제 모델의 적용을 마무리하자."
   ]
  },
  {
   "cell_type": "markdown",
   "metadata": {},
   "source": [
    "## Cost Function의 계산 및 선형회귀분석의 실시"
   ]
  },
  {
   "cell_type": "code",
   "execution_count": 39,
   "metadata": {},
   "outputs": [],
   "source": [
    "from sklearn.linear_model import LinearRegression\n",
    "reg = LinearRegression()\n",
    "reg.fit(X_train, y_train)\n",
    "y_pred = reg.predict(X_test)"
   ]
  },
  {
   "cell_type": "code",
   "execution_count": 40,
   "metadata": {},
   "outputs": [
    {
     "name": "stdout",
     "output_type": "stream",
     "text": [
      "0.19144820702861642\n"
     ]
    }
   ],
   "source": [
    "from sklearn.metrics import r2_score\n",
    "print(r2_score(y_test, y_pred))"
   ]
  },
  {
   "cell_type": "code",
   "execution_count": 41,
   "metadata": {},
   "outputs": [
    {
     "name": "stdout",
     "output_type": "stream",
     "text": [
      "8.202236108262378\n"
     ]
    }
   ],
   "source": [
    "## MAE 계산\n",
    "from sklearn.metrics import mean_absolute_error\n",
    "mse = mean_absolute_error(y_test, y_pred)\n",
    "print(mse)"
   ]
  },
  {
   "cell_type": "markdown",
   "metadata": {},
   "source": [
    "어라? 실질적으로 평균 오차는 8분 정도밖에 나지 않는다. R^2 값이 모든 것을 말하지는 않는다.\n",
    "적당한 오차 기준을 삼는 것이 중요함을 알 수 있다."
   ]
  },
  {
   "cell_type": "markdown",
   "metadata": {},
   "source": [
    "이제 늦은 배달 경험을 평가하는 지표인 Weight_MAE를 식으로 쓰면 다음과 같다.\n",
    "$$WMAE = \\frac{1}{\\sum w_{i}} \\sum_{i}{w_{i}|y_{i}-\\hat{y}_{i}|}$$"
   ]
  },
  {
   "cell_type": "code",
   "execution_count": 42,
   "metadata": {},
   "outputs": [],
   "source": [
    "import numpy as np\n",
    "# 각각을 리스트로 변경\n",
    "y_test_list = list(y_test['DeliveryTime'].values)\n",
    "y_pred_list = list(y_pred.flatten())"
   ]
  },
  {
   "cell_type": "code",
   "execution_count": 43,
   "metadata": {},
   "outputs": [],
   "source": [
    "def weight_delivery(real, pred):\n",
    "    weight = 0\n",
    "    error = 0\n",
    "    for i in range(len(real)):\n",
    "        if real[i] > pred[i]:\n",
    "            weight += 2\n",
    "            error += 2 * (real[i] - pred[i])\n",
    "        elif real[i] < pred[i]:\n",
    "            weight += 1\n",
    "            error += (pred[i] - real[i])\n",
    "        elif real[i] == pred[i]:\n",
    "            weight += 1\n",
    "    return error / weight"
   ]
  },
  {
   "cell_type": "code",
   "execution_count": 44,
   "metadata": {},
   "outputs": [
    {
     "data": {
      "text/plain": [
       "8.95643303022668"
      ]
     },
     "execution_count": 44,
     "metadata": {},
     "output_type": "execute_result"
    }
   ],
   "source": [
    "weight_delivery(y_test_list, y_pred_list)"
   ]
  },
  {
   "cell_type": "markdown",
   "metadata": {},
   "source": [
    "Penalty를 변경한 결과 약 9분 남짓한 정도의 오차를 가지고 있다.\n",
    "마지막으로, Under-prediction의 비율을 계산하고자 한다. 여기서 Under-prediction의 경우, 실제 배달시간이 더 걸린 경우를 의미한다."
   ]
  },
  {
   "cell_type": "code",
   "execution_count": 45,
   "metadata": {},
   "outputs": [],
   "source": [
    "def under_prediction_ratio(real, pred):\n",
    "    count = 0\n",
    "    for i in range(len(real)):\n",
    "        if real[i] > pred[i]:\n",
    "            count += 1\n",
    "    return count / len(real)"
   ]
  },
  {
   "cell_type": "code",
   "execution_count": 46,
   "metadata": {},
   "outputs": [
    {
     "data": {
      "text/plain": [
       "0.3829690346083789"
      ]
     },
     "execution_count": 46,
     "metadata": {},
     "output_type": "execute_result"
    }
   ],
   "source": [
    "under_prediction_ratio(y_test_list, y_pred_list)"
   ]
  },
  {
   "cell_type": "markdown",
   "metadata": {},
   "source": [
    "## 분류모델 - Tree Model과의 비교"
   ]
  },
  {
   "cell_type": "markdown",
   "metadata": {},
   "source": [
    "그렇다면, 분류 모델을 쓰면 어떻게 될까? 사실, 그냥 전체 데이터셋을 굳이 미리 봤다면 (그러면 안되지만), 배달 예측 시간은 7개 정도의 종류밖에 없다. 그러면 아예 이 7개중 1개로만 분류되게 하면 어떨까?"
   ]
  },
  {
   "cell_type": "code",
   "execution_count": 47,
   "metadata": {},
   "outputs": [],
   "source": [
    "from sklearn.tree import DecisionTreeClassifier\n",
    "\n",
    "decision_tree = DecisionTreeClassifier(random_state = 0,\n",
    "                                      max_depth = 10,\n",
    "                                      criterion = 'gini')\n",
    "decision_tree = decision_tree.fit(X_train, y_train)\n",
    "y_pred = decision_tree.predict(X_test)"
   ]
  },
  {
   "cell_type": "markdown",
   "metadata": {},
   "source": [
    "분류 자체가 잘 되었는지, 분류의 정확도를 확인해보자."
   ]
  },
  {
   "cell_type": "code",
   "execution_count": 48,
   "metadata": {},
   "outputs": [
    {
     "data": {
      "text/plain": [
       "0.674408014571949"
      ]
     },
     "execution_count": 48,
     "metadata": {},
     "output_type": "execute_result"
    }
   ],
   "source": [
    "# 분류모델 일치도\n",
    "np.mean(y_pred.flatten() == y_test['DeliveryTime'].values)"
   ]
  },
  {
   "cell_type": "code",
   "execution_count": 49,
   "metadata": {},
   "outputs": [
    {
     "name": "stdout",
     "output_type": "stream",
     "text": [
      "6.721311475409836\n"
     ]
    }
   ],
   "source": [
    "mse = mean_absolute_error(y_test, y_pred)\n",
    "print(mse)"
   ]
  },
  {
   "cell_type": "code",
   "execution_count": 50,
   "metadata": {},
   "outputs": [
    {
     "name": "stdout",
     "output_type": "stream",
     "text": [
      "9.2652058934643\n"
     ]
    }
   ],
   "source": [
    "y_test_list = list(y_test['DeliveryTime'].values)\n",
    "y_pred_list = list(y_pred.flatten())\n",
    "print(weight_delivery(y_test_list, y_pred_list))"
   ]
  },
  {
   "cell_type": "markdown",
   "metadata": {},
   "source": [
    "음? Tree로 할 경우, weight_delivery에서는 더 나쁜 결과를 보인다. under_prediction ratio를 확인하면 다음과 같다."
   ]
  },
  {
   "cell_type": "code",
   "execution_count": 51,
   "metadata": {},
   "outputs": [
    {
     "data": {
      "text/plain": [
       "0.2053734061930783"
      ]
     },
     "execution_count": 51,
     "metadata": {},
     "output_type": "execute_result"
    }
   ],
   "source": [
    "under_prediction_ratio(y_test_list, y_pred_list)"
   ]
  },
  {
   "cell_type": "markdown",
   "metadata": {},
   "source": [
    "## 분류모델 - Random Forest와의 비교"
   ]
  },
  {
   "cell_type": "code",
   "execution_count": 52,
   "metadata": {},
   "outputs": [
    {
     "name": "stderr",
     "output_type": "stream",
     "text": [
      "<ipython-input-52-fb1770062f7f>:5: DataConversionWarning: A column-vector y was passed when a 1d array was expected. Please change the shape of y to (n_samples,), for example using ravel().\n",
      "  forest.fit(X_train, y_train)\n"
     ]
    }
   ],
   "source": [
    "from sklearn.ensemble import RandomForestClassifier\n",
    "forest = RandomForestClassifier(n_estimators = 100, # 트리의 개수\n",
    "                                max_depth = 10, # 각 트리당 최대 깊이\n",
    "                                criterion='gini') # 분류지표\n",
    "forest.fit(X_train, y_train)\n",
    "y_pred = forest.predict(X_test)"
   ]
  },
  {
   "cell_type": "code",
   "execution_count": 53,
   "metadata": {},
   "outputs": [
    {
     "data": {
      "text/plain": [
       "0.691712204007286"
      ]
     },
     "execution_count": 53,
     "metadata": {},
     "output_type": "execute_result"
    }
   ],
   "source": [
    "# 분류 모델 일치도\n",
    "np.mean(y_pred.flatten() == y_test['DeliveryTime'].values)"
   ]
  },
  {
   "cell_type": "code",
   "execution_count": 54,
   "metadata": {},
   "outputs": [
    {
     "name": "stdout",
     "output_type": "stream",
     "text": [
      "6.247723132969035\n"
     ]
    }
   ],
   "source": [
    "mse = mean_absolute_error(y_test, y_pred)\n",
    "print(mse)"
   ]
  },
  {
   "cell_type": "code",
   "execution_count": 55,
   "metadata": {},
   "outputs": [
    {
     "name": "stdout",
     "output_type": "stream",
     "text": [
      "9.352219415373511\n"
     ]
    }
   ],
   "source": [
    "y_test_list = list(y_test['DeliveryTime'].values)\n",
    "y_pred_list = list(y_pred.flatten())\n",
    "print(weight_delivery(y_test_list, y_pred_list))"
   ]
  },
  {
   "cell_type": "markdown",
   "metadata": {},
   "source": [
    "Random Forest로 했음에도 불구하고, 실제 결과엔 타격이 있어 보인다. underprediction ratio 및 지각 시간에 대한 출력을 보자."
   ]
  },
  {
   "cell_type": "code",
   "execution_count": 56,
   "metadata": {},
   "outputs": [
    {
     "data": {
      "text/plain": [
       "0.26183970856102"
      ]
     },
     "execution_count": 56,
     "metadata": {},
     "output_type": "execute_result"
    }
   ],
   "source": [
    "under_prediction_ratio(y_test_list, y_pred_list)"
   ]
  },
  {
   "cell_type": "markdown",
   "metadata": {},
   "source": [
    "이를 위해 Random Forest 기준으로, y_test가 더 큰, 즉 다시말해 예측시간보다 더 늦게 배달된 경우를 다 확인해보면 30분 이상 늦은 경우도 많이 보이며 심할 경우 90분 이상 늦은 최악의 경험을 가져다 준 경우가 보인다. 이러한 케이스가 많기 때문에 weight에서 더 취약함을 알 수 있다."
   ]
  },
  {
   "cell_type": "markdown",
   "metadata": {},
   "source": [
    "## PCA의 적용"
   ]
  },
  {
   "cell_type": "markdown",
   "metadata": {},
   "source": [
    "이번에는 PCA를 적용할려고 한다.\n",
    "최적 components값이 어디인지 시각적으로 확인해보고자 한다. \n",
    "사용할 error 함수는 앞에서 만든 Weight_delivery이다."
   ]
  },
  {
   "cell_type": "code",
   "execution_count": 57,
   "metadata": {},
   "outputs": [],
   "source": [
    "from sklearn.decomposition import PCA\n",
    "train_error = []\n",
    "pred_error = []\n",
    "y_train_list = list(y_train['DeliveryTime'].values)\n",
    "y_test_list = list(y_test['DeliveryTime'].values)\n",
    "\n",
    "\n",
    "for i in range(1, 35):\n",
    "    pca = PCA(n_components = i)\n",
    "    X_train_pca = pca.fit_transform(X_train)\n",
    "    X_test_pca = pca.transform(X_test)\n",
    "    \n",
    "    reg = LinearRegression()\n",
    "    reg.fit(X_train_pca, y_train)\n",
    "    y_learned = reg.predict(X_train_pca)\n",
    "    y_pred = reg.predict(X_test_pca)\n",
    "    \n",
    "    y_learned_list = list(y_learned.flatten())\n",
    "    y_pred_list = list(y_pred.flatten())\n",
    "    \n",
    "    train_error.append(weight_delivery(y_train_list, y_learned_list))\n",
    "    pred_error.append(weight_delivery(y_test_list, y_pred_list))"
   ]
  },
  {
   "cell_type": "code",
   "execution_count": 58,
   "metadata": {},
   "outputs": [
    {
     "data": {
      "image/png": "[encoded data removed]",
      "text/plain": [
       "<Figure size 864x576 with 1 Axes>"
      ]
     },
     "metadata": {
      "needs_background": "light"
     },
     "output_type": "display_data"
    }
   ],
   "source": [
    "import matplotlib.pyplot as plt\n",
    "plt.figure(figsize=(12,8))\n",
    "sns.lineplot(x = np.arange(1, 35), y = train_error, label = 'train_error')\n",
    "sns.lineplot(x = np.arange(1, 35), y = pred_error, label = 'test_error')\n",
    "plt.xticks(np.arange(1, 35))\n",
    "plt.grid()\n",
    "plt.show()"
   ]
  },
  {
   "cell_type": "markdown",
   "metadata": {},
   "source": [
    "전체적으로 n 값이 증가할때마다 에러가 줄어드는 경향이 있다.\n",
    "한편, n_compents가 4개가 될 때, error 개선의 효과가 가장 커기는 지점으로, 효율 측면에서는 n_components = 4 선택도 무방하다.\n",
    "이 역시, 약 9분 정도의 오차를 가지고 있다."
   ]
  },
  {
   "cell_type": "markdown",
   "metadata": {},
   "source": [
    "# PCA n=4인 경우"
   ]
  },
  {
   "cell_type": "code",
   "execution_count": 59,
   "metadata": {},
   "outputs": [
    {
     "name": "stdout",
     "output_type": "stream",
     "text": [
      "8.463232713839753\n",
      "9.326443391787533\n",
      "0.37067395264116576\n"
     ]
    }
   ],
   "source": [
    "pca = PCA(n_components = 4)\n",
    "X_train_pca = pca.fit_transform(X_train)\n",
    "X_test_pca = pca.transform(X_test)\n",
    "    \n",
    "reg = LinearRegression()\n",
    "reg.fit(X_train_pca, y_train)\n",
    "y_learned = reg.predict(X_train_pca)\n",
    "y_pred = reg.predict(X_test_pca)\n",
    "    \n",
    "y_learned_list = list(y_learned.flatten())\n",
    "y_pred_list = list(y_pred.flatten())\n",
    "\n",
    "mse = mean_absolute_error(y_test, y_pred)\n",
    "print(mse)\n",
    "print(weight_delivery(y_test_list, y_pred_list))\n",
    "print(under_prediction_ratio(y_test_list, y_pred_list))"
   ]
  },
  {
   "cell_type": "markdown",
   "metadata": {},
   "source": [
    "## Lasso 규제의 적용"
   ]
  },
  {
   "cell_type": "markdown",
   "metadata": {},
   "source": [
    "Lasso 규제를 통해 실제로 유의미한 변수를 찾아볼 수 있다."
   ]
  },
  {
   "cell_type": "code",
   "execution_count": 60,
   "metadata": {},
   "outputs": [],
   "source": [
    "from sklearn.linear_model import Lasso\n",
    "lasso = Lasso(alpha = 0.1)\n",
    "lasso.fit(X_train, y_train)\n",
    "y_pred = lasso.predict(X_test)"
   ]
  },
  {
   "cell_type": "code",
   "execution_count": 61,
   "metadata": {},
   "outputs": [
    {
     "name": "stdout",
     "output_type": "stream",
     "text": [
      "8.234799930879674\n"
     ]
    }
   ],
   "source": [
    "# mse 비교\n",
    "mse = mean_absolute_error(y_test, y_pred)\n",
    "print(mse)"
   ]
  },
  {
   "cell_type": "code",
   "execution_count": 62,
   "metadata": {},
   "outputs": [
    {
     "name": "stdout",
     "output_type": "stream",
     "text": [
      "9.112250614232856\n"
     ]
    }
   ],
   "source": [
    "y_test_list = list(y_test['DeliveryTime'].values)\n",
    "y_pred_list = list(y_pred.flatten())\n",
    "print(weight_delivery(y_test_list, y_pred_list))"
   ]
  },
  {
   "cell_type": "code",
   "execution_count": 63,
   "metadata": {},
   "outputs": [
    {
     "data": {
      "text/plain": [
       "array([ 0.11595696,  0.59704018, -2.68399301,  6.17573548,  0.04414174,\n",
       "        0.        , -0.        , -0.17281413, -0.        ,  0.80889163,\n",
       "       -0.93786349,  0.20298855,  0.        , -0.        ,  7.08203531,\n",
       "        0.        , -0.        , -0.39627695,  0.        ,  0.        ,\n",
       "        1.12462857, -1.43662057,  0.        ,  0.        , -0.        ,\n",
       "       -0.        ,  0.33419811,  0.23352487, -0.        , -0.        ,\n",
       "       -0.        ,  0.        , -0.        ,  0.        ])"
      ]
     },
     "execution_count": 63,
     "metadata": {},
     "output_type": "execute_result"
    }
   ],
   "source": [
    "lasso.coef_"
   ]
  },
  {
   "cell_type": "markdown",
   "metadata": {},
   "source": [
    "$\\alpha = 0.1$를 적용한 결과, 앞에서 결정한 20개의 변수 중 9 개 정도는 규제화 작업을 통해 0 값을 가지게 되었다. 다시 말해 11개의 변수만으로도 유사한 결과를 얻어낼 수 있음을 알 수 있다. Under_Prediction_Ratio 또한 비슷한 결과가 나옴을 확인할 수 있다."
   ]
  },
  {
   "cell_type": "code",
   "execution_count": 64,
   "metadata": {},
   "outputs": [
    {
     "data": {
      "text/plain": [
       "0.3656648451730419"
      ]
     },
     "execution_count": 64,
     "metadata": {},
     "output_type": "execute_result"
    }
   ],
   "source": [
    "under_prediction_ratio(y_test_list, y_pred_list)"
   ]
  },
  {
   "cell_type": "markdown",
   "metadata": {},
   "source": [
    "## SGD Regressor"
   ]
  },
  {
   "cell_type": "code",
   "execution_count": 65,
   "metadata": {},
   "outputs": [
    {
     "name": "stderr",
     "output_type": "stream",
     "text": [
      "C:\\Users\\HP\\anaconda3\\lib\\site-packages\\sklearn\\utils\\validation.py:72: DataConversionWarning: A column-vector y was passed when a 1d array was expected. Please change the shape of y to (n_samples, ), for example using ravel().\n",
      "  return f(**kwargs)\n"
     ]
    }
   ],
   "source": [
    "from sklearn.linear_model import SGDRegressor\n",
    "SGD = SGDRegressor(max_iter = 1000, tol=1e-3)\n",
    "SGD.fit(X_train, y_train)\n",
    "y_pred = SGD.predict(X_test)"
   ]
  },
  {
   "cell_type": "code",
   "execution_count": 66,
   "metadata": {},
   "outputs": [
    {
     "name": "stdout",
     "output_type": "stream",
     "text": [
      "8.217946597009366\n"
     ]
    }
   ],
   "source": [
    "mse = mean_absolute_error(y_test, y_pred)\n",
    "print(mse)"
   ]
  },
  {
   "cell_type": "code",
   "execution_count": 67,
   "metadata": {},
   "outputs": [
    {
     "name": "stdout",
     "output_type": "stream",
     "text": [
      "8.975187706455724\n"
     ]
    }
   ],
   "source": [
    "y_test_list = list(y_test['DeliveryTime'].values)\n",
    "y_pred_list = list(y_pred.flatten())\n",
    "print(weight_delivery(y_test_list, y_pred_list))"
   ]
  },
  {
   "cell_type": "code",
   "execution_count": 68,
   "metadata": {},
   "outputs": [
    {
     "data": {
      "text/plain": [
       "0.3820582877959927"
      ]
     },
     "execution_count": 68,
     "metadata": {},
     "output_type": "execute_result"
    }
   ],
   "source": [
    "under_prediction_ratio(y_test_list, y_pred_list)"
   ]
  }
 ],
 "metadata": {
  "kernelspec": {
   "display_name": "Python 3",
   "language": "python",
   "name": "python3"
  },
  "language_info": {
   "codemirror_mode": {
    "name": "ipython",
    "version": 3
   },
   "file_extension": ".py",
   "mimetype": "text/x-python",
   "name": "python",
   "nbconvert_exporter": "python",
   "pygments_lexer": "ipython3",
   "version": "3.8.5"
  }
 },
 "nbformat": 4,
 "nbformat_minor": 4
}
